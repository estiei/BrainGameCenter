{
 "cells": [
  {
   "cell_type": "code",
   "execution_count": 1,
   "metadata": {},
   "outputs": [
    {
     "name": "stderr",
     "output_type": "stream",
     "text": [
      "/Applications/anaconda3/envs/py35/lib/python3.9/site-packages/pandas/core/computation/expressions.py:21: UserWarning: Pandas requires version '2.8.4' or newer of 'numexpr' (version '2.8.3' currently installed).\n",
      "  from pandas.core.computation.check import NUMEXPR_INSTALLED\n"
     ]
    }
   ],
   "source": [
    "import pandas as pd\n",
    "import numpy as np\n",
    "import matplotlib.pyplot as plt\n",
    "import seaborn as sns\n",
    "from scipy.stats import ttest_ind\n",
    "import json\n",
    "from scipy.stats import linregress, pearsonr"
   ]
  },
  {
   "cell_type": "code",
   "execution_count": 2,
   "metadata": {},
   "outputs": [],
   "source": [
    "PARTN_NUM = 120\n",
    "NWORDS = 40"
   ]
  },
  {
   "cell_type": "markdown",
   "metadata": {},
   "source": [
    "# Data Analysis"
   ]
  },
  {
   "cell_type": "code",
   "execution_count": 3,
   "metadata": {},
   "outputs": [],
   "source": [
    "import plotly.express as px\n",
    "import plotly.graph_objects as go\n",
    "import pandas"
   ]
  },
  {
   "cell_type": "code",
   "execution_count": 4,
   "metadata": {},
   "outputs": [],
   "source": [
    "art_data = pd.read_csv('./data/art_generated_data.csv')\n",
    "# Define the path to the JSON file\n",
    "json_file_path = './test-4pl/best_parameters.json'\n",
    "\n",
    "# Read the JSON file into a dictionary\n",
    "with open(json_file_path, 'r') as file:\n",
    "    irt_param = json.load(file)"
   ]
  },
  {
   "cell_type": "code",
   "execution_count": 5,
   "metadata": {},
   "outputs": [],
   "source": [
    "# form a dataset with abilities of participants\n",
    "\n",
    "df = art_data\n",
    "PARTN_NUM = 120 # number of participants\n",
    "\n",
    "summary_data = {'id':[], 'sum_answ':[], 'mean_answ':[], 'sd_answ':[], 'sum_temp':[], 'mean_temp':[], 'sd_temp':[]}\n",
    "\n",
    "for id in range(PARTN_NUM):\n",
    "    summary_data['id'].append(id)\n",
    "\n",
    "    col = f'answ_{id}'   \n",
    "    summary_data['sum_answ'].append(df[col].sum())\n",
    "    summary_data['mean_answ'].append(df[col].mean())\n",
    "    summary_data['sd_answ'].append(df[col].std())\n",
    "    \n",
    "    col = f'temp_{id}'\n",
    "    summary_data['sum_temp'].append(df[col].sum())\n",
    "    summary_data['mean_temp'].append(df[col].mean())\n",
    "    summary_data['sd_temp'].append(df[col].std())\n",
    "\n",
    "# Create a new DataFrame with the summary data\n",
    "participants_df = pd.DataFrame(summary_data)\n",
    "\n",
    "participants_df['ability'] = irt_param['ability']"
   ]
  },
  {
   "cell_type": "markdown",
   "metadata": {},
   "source": [
    "This page shows the results of the verbal part of the Shipley test.\n",
    "The data is generated automatically for 120 participants: 60 participants represent a group with average performance, 30 participants perform above average, and 30 perform below average. The data is distributed quasi-normally on two dimensions: response time and correctness.\n",
    "For representing the results, we use Item Response Theory (IRT) to evaluate two parameters: the ability of each participant to answer test questions and the difficulty of each test item.\n",
    "More about IRT can be found here: [Item Response Theory](https://en.wikipedia.org/wiki/Item_response_theory)."
   ]
  },
  {
   "cell_type": "markdown",
   "metadata": {},
   "source": [
    "We start with the general representation of test results for the tested group.\n",
    "The graph below shows the overall distribution of the number of correct answers among the participants.\n",
    "Number of questions = 40."
   ]
  },
  {
   "cell_type": "code",
   "execution_count": 16,
   "metadata": {},
   "outputs": [
    {
     "data": {
      "application/vnd.plotly.v1+json": {
       "config": {
        "plotlyServerURL": "https://plot.ly"
       },
       "data": [
        {
         "alignmentgroup": "True",
         "bingroup": "x",
         "hovertemplate": "Quartile=Q1<br>Correct Answers=%{x}<br>count=%{y}<extra></extra>",
         "legendgroup": "Q1",
         "marker": {
          "color": "rgba(0, 0, 255, 0.2)",
          "line": {
           "color": "DarkSlateGrey",
           "width": 2
          },
          "pattern": {
           "shape": ""
          }
         },
         "name": "Q1",
         "nbinsx": 20,
         "offsetgroup": "Q1",
         "orientation": "v",
         "showlegend": true,
         "type": "histogram",
         "x": [
          5,
          7,
          9,
          9
         ],
         "xaxis": "x",
         "yaxis": "y"
        },
        {
         "alignmentgroup": "True",
         "bingroup": "x",
         "hovertemplate": "Quartile=Q2<br>Correct Answers=%{x}<br>count=%{y}<extra></extra>",
         "legendgroup": "Q2",
         "marker": {
          "color": "rgba(0, 0, 255, 0.4)",
          "line": {
           "color": "DarkSlateGrey",
           "width": 2
          },
          "pattern": {
           "shape": ""
          }
         },
         "name": "Q2",
         "nbinsx": 20,
         "offsetgroup": "Q2",
         "orientation": "v",
         "showlegend": true,
         "type": "histogram",
         "x": [
          10,
          10,
          10,
          10,
          11,
          12,
          12,
          12,
          12,
          12,
          13,
          13,
          13,
          13,
          13,
          14,
          14,
          14,
          14,
          14,
          14,
          15,
          15,
          15,
          15,
          15,
          15,
          15,
          15,
          16,
          16,
          16,
          16,
          16,
          16,
          17,
          17,
          17,
          17,
          17,
          18,
          18,
          18,
          18,
          18,
          18,
          18,
          18,
          19,
          19,
          19,
          19,
          19,
          19,
          19,
          19
         ],
         "xaxis": "x",
         "yaxis": "y"
        },
        {
         "alignmentgroup": "True",
         "bingroup": "x",
         "hovertemplate": "Quartile=Q3<br>Correct Answers=%{x}<br>count=%{y}<extra></extra>",
         "legendgroup": "Q3",
         "marker": {
          "color": "rgba(0, 0, 255, 0.55)",
          "line": {
           "color": "DarkSlateGrey",
           "width": 2
          },
          "pattern": {
           "shape": ""
          }
         },
         "name": "Q3",
         "nbinsx": 20,
         "offsetgroup": "Q3",
         "orientation": "v",
         "showlegend": true,
         "type": "histogram",
         "x": [
          20,
          20,
          20,
          20,
          20,
          21,
          21,
          21,
          21,
          21,
          21,
          21,
          21,
          21,
          21,
          22,
          22,
          22,
          22,
          22,
          22,
          23,
          23,
          23,
          23,
          23,
          24,
          24,
          24,
          25,
          29,
          29,
          29,
          29
         ],
         "xaxis": "x",
         "yaxis": "y"
        },
        {
         "alignmentgroup": "True",
         "bingroup": "x",
         "hovertemplate": "Quartile=Q4<br>Correct Answers=%{x}<br>count=%{y}<extra></extra>",
         "legendgroup": "Q4",
         "marker": {
          "color": "rgba(0, 0, 255, 0.7)",
          "line": {
           "color": "DarkSlateGrey",
           "width": 2
          },
          "pattern": {
           "shape": ""
          }
         },
         "name": "Q4",
         "nbinsx": 20,
         "offsetgroup": "Q4",
         "orientation": "v",
         "showlegend": true,
         "type": "histogram",
         "x": [
          30,
          31,
          31,
          32,
          32,
          32,
          32,
          32,
          32,
          32,
          32,
          32,
          33,
          33,
          33,
          33,
          33,
          33,
          33,
          33,
          34,
          34,
          35,
          35,
          35,
          35
         ],
         "xaxis": "x",
         "yaxis": "y"
        }
       ],
       "layout": {
        "barmode": "relative",
        "height": 450,
        "legend": {
         "font": {
          "size": 18
         },
         "title": {
          "text": "Quartile"
         },
         "tracegroupgap": 0
        },
        "showlegend": true,
        "template": {
         "data": {
          "bar": [
           {
            "error_x": {
             "color": "#2a3f5f"
            },
            "error_y": {
             "color": "#2a3f5f"
            },
            "marker": {
             "line": {
              "color": "#E5ECF6",
              "width": 0.5
             },
             "pattern": {
              "fillmode": "overlay",
              "size": 10,
              "solidity": 0.2
             }
            },
            "type": "bar"
           }
          ],
          "barpolar": [
           {
            "marker": {
             "line": {
              "color": "#E5ECF6",
              "width": 0.5
             },
             "pattern": {
              "fillmode": "overlay",
              "size": 10,
              "solidity": 0.2
             }
            },
            "type": "barpolar"
           }
          ],
          "carpet": [
           {
            "aaxis": {
             "endlinecolor": "#2a3f5f",
             "gridcolor": "white",
             "linecolor": "white",
             "minorgridcolor": "white",
             "startlinecolor": "#2a3f5f"
            },
            "baxis": {
             "endlinecolor": "#2a3f5f",
             "gridcolor": "white",
             "linecolor": "white",
             "minorgridcolor": "white",
             "startlinecolor": "#2a3f5f"
            },
            "type": "carpet"
           }
          ],
          "choropleth": [
           {
            "colorbar": {
             "outlinewidth": 0,
             "ticks": ""
            },
            "type": "choropleth"
           }
          ],
          "contour": [
           {
            "colorbar": {
             "outlinewidth": 0,
             "ticks": ""
            },
            "colorscale": [
             [
              0,
              "#0d0887"
             ],
             [
              0.1111111111111111,
              "#46039f"
             ],
             [
              0.2222222222222222,
              "#7201a8"
             ],
             [
              0.3333333333333333,
              "#9c179e"
             ],
             [
              0.4444444444444444,
              "#bd3786"
             ],
             [
              0.5555555555555556,
              "#d8576b"
             ],
             [
              0.6666666666666666,
              "#ed7953"
             ],
             [
              0.7777777777777778,
              "#fb9f3a"
             ],
             [
              0.8888888888888888,
              "#fdca26"
             ],
             [
              1,
              "#f0f921"
             ]
            ],
            "type": "contour"
           }
          ],
          "contourcarpet": [
           {
            "colorbar": {
             "outlinewidth": 0,
             "ticks": ""
            },
            "type": "contourcarpet"
           }
          ],
          "heatmap": [
           {
            "colorbar": {
             "outlinewidth": 0,
             "ticks": ""
            },
            "colorscale": [
             [
              0,
              "#0d0887"
             ],
             [
              0.1111111111111111,
              "#46039f"
             ],
             [
              0.2222222222222222,
              "#7201a8"
             ],
             [
              0.3333333333333333,
              "#9c179e"
             ],
             [
              0.4444444444444444,
              "#bd3786"
             ],
             [
              0.5555555555555556,
              "#d8576b"
             ],
             [
              0.6666666666666666,
              "#ed7953"
             ],
             [
              0.7777777777777778,
              "#fb9f3a"
             ],
             [
              0.8888888888888888,
              "#fdca26"
             ],
             [
              1,
              "#f0f921"
             ]
            ],
            "type": "heatmap"
           }
          ],
          "heatmapgl": [
           {
            "colorbar": {
             "outlinewidth": 0,
             "ticks": ""
            },
            "colorscale": [
             [
              0,
              "#0d0887"
             ],
             [
              0.1111111111111111,
              "#46039f"
             ],
             [
              0.2222222222222222,
              "#7201a8"
             ],
             [
              0.3333333333333333,
              "#9c179e"
             ],
             [
              0.4444444444444444,
              "#bd3786"
             ],
             [
              0.5555555555555556,
              "#d8576b"
             ],
             [
              0.6666666666666666,
              "#ed7953"
             ],
             [
              0.7777777777777778,
              "#fb9f3a"
             ],
             [
              0.8888888888888888,
              "#fdca26"
             ],
             [
              1,
              "#f0f921"
             ]
            ],
            "type": "heatmapgl"
           }
          ],
          "histogram": [
           {
            "marker": {
             "pattern": {
              "fillmode": "overlay",
              "size": 10,
              "solidity": 0.2
             }
            },
            "type": "histogram"
           }
          ],
          "histogram2d": [
           {
            "colorbar": {
             "outlinewidth": 0,
             "ticks": ""
            },
            "colorscale": [
             [
              0,
              "#0d0887"
             ],
             [
              0.1111111111111111,
              "#46039f"
             ],
             [
              0.2222222222222222,
              "#7201a8"
             ],
             [
              0.3333333333333333,
              "#9c179e"
             ],
             [
              0.4444444444444444,
              "#bd3786"
             ],
             [
              0.5555555555555556,
              "#d8576b"
             ],
             [
              0.6666666666666666,
              "#ed7953"
             ],
             [
              0.7777777777777778,
              "#fb9f3a"
             ],
             [
              0.8888888888888888,
              "#fdca26"
             ],
             [
              1,
              "#f0f921"
             ]
            ],
            "type": "histogram2d"
           }
          ],
          "histogram2dcontour": [
           {
            "colorbar": {
             "outlinewidth": 0,
             "ticks": ""
            },
            "colorscale": [
             [
              0,
              "#0d0887"
             ],
             [
              0.1111111111111111,
              "#46039f"
             ],
             [
              0.2222222222222222,
              "#7201a8"
             ],
             [
              0.3333333333333333,
              "#9c179e"
             ],
             [
              0.4444444444444444,
              "#bd3786"
             ],
             [
              0.5555555555555556,
              "#d8576b"
             ],
             [
              0.6666666666666666,
              "#ed7953"
             ],
             [
              0.7777777777777778,
              "#fb9f3a"
             ],
             [
              0.8888888888888888,
              "#fdca26"
             ],
             [
              1,
              "#f0f921"
             ]
            ],
            "type": "histogram2dcontour"
           }
          ],
          "mesh3d": [
           {
            "colorbar": {
             "outlinewidth": 0,
             "ticks": ""
            },
            "type": "mesh3d"
           }
          ],
          "parcoords": [
           {
            "line": {
             "colorbar": {
              "outlinewidth": 0,
              "ticks": ""
             }
            },
            "type": "parcoords"
           }
          ],
          "pie": [
           {
            "automargin": true,
            "type": "pie"
           }
          ],
          "scatter": [
           {
            "fillpattern": {
             "fillmode": "overlay",
             "size": 10,
             "solidity": 0.2
            },
            "type": "scatter"
           }
          ],
          "scatter3d": [
           {
            "line": {
             "colorbar": {
              "outlinewidth": 0,
              "ticks": ""
             }
            },
            "marker": {
             "colorbar": {
              "outlinewidth": 0,
              "ticks": ""
             }
            },
            "type": "scatter3d"
           }
          ],
          "scattercarpet": [
           {
            "marker": {
             "colorbar": {
              "outlinewidth": 0,
              "ticks": ""
             }
            },
            "type": "scattercarpet"
           }
          ],
          "scattergeo": [
           {
            "marker": {
             "colorbar": {
              "outlinewidth": 0,
              "ticks": ""
             }
            },
            "type": "scattergeo"
           }
          ],
          "scattergl": [
           {
            "marker": {
             "colorbar": {
              "outlinewidth": 0,
              "ticks": ""
             }
            },
            "type": "scattergl"
           }
          ],
          "scattermapbox": [
           {
            "marker": {
             "colorbar": {
              "outlinewidth": 0,
              "ticks": ""
             }
            },
            "type": "scattermapbox"
           }
          ],
          "scatterpolar": [
           {
            "marker": {
             "colorbar": {
              "outlinewidth": 0,
              "ticks": ""
             }
            },
            "type": "scatterpolar"
           }
          ],
          "scatterpolargl": [
           {
            "marker": {
             "colorbar": {
              "outlinewidth": 0,
              "ticks": ""
             }
            },
            "type": "scatterpolargl"
           }
          ],
          "scatterternary": [
           {
            "marker": {
             "colorbar": {
              "outlinewidth": 0,
              "ticks": ""
             }
            },
            "type": "scatterternary"
           }
          ],
          "surface": [
           {
            "colorbar": {
             "outlinewidth": 0,
             "ticks": ""
            },
            "colorscale": [
             [
              0,
              "#0d0887"
             ],
             [
              0.1111111111111111,
              "#46039f"
             ],
             [
              0.2222222222222222,
              "#7201a8"
             ],
             [
              0.3333333333333333,
              "#9c179e"
             ],
             [
              0.4444444444444444,
              "#bd3786"
             ],
             [
              0.5555555555555556,
              "#d8576b"
             ],
             [
              0.6666666666666666,
              "#ed7953"
             ],
             [
              0.7777777777777778,
              "#fb9f3a"
             ],
             [
              0.8888888888888888,
              "#fdca26"
             ],
             [
              1,
              "#f0f921"
             ]
            ],
            "type": "surface"
           }
          ],
          "table": [
           {
            "cells": {
             "fill": {
              "color": "#EBF0F8"
             },
             "line": {
              "color": "white"
             }
            },
            "header": {
             "fill": {
              "color": "#C8D4E3"
             },
             "line": {
              "color": "white"
             }
            },
            "type": "table"
           }
          ]
         },
         "layout": {
          "annotationdefaults": {
           "arrowcolor": "#2a3f5f",
           "arrowhead": 0,
           "arrowwidth": 1
          },
          "autotypenumbers": "strict",
          "coloraxis": {
           "colorbar": {
            "outlinewidth": 0,
            "ticks": ""
           }
          },
          "colorscale": {
           "diverging": [
            [
             0,
             "#8e0152"
            ],
            [
             0.1,
             "#c51b7d"
            ],
            [
             0.2,
             "#de77ae"
            ],
            [
             0.3,
             "#f1b6da"
            ],
            [
             0.4,
             "#fde0ef"
            ],
            [
             0.5,
             "#f7f7f7"
            ],
            [
             0.6,
             "#e6f5d0"
            ],
            [
             0.7,
             "#b8e186"
            ],
            [
             0.8,
             "#7fbc41"
            ],
            [
             0.9,
             "#4d9221"
            ],
            [
             1,
             "#276419"
            ]
           ],
           "sequential": [
            [
             0,
             "#0d0887"
            ],
            [
             0.1111111111111111,
             "#46039f"
            ],
            [
             0.2222222222222222,
             "#7201a8"
            ],
            [
             0.3333333333333333,
             "#9c179e"
            ],
            [
             0.4444444444444444,
             "#bd3786"
            ],
            [
             0.5555555555555556,
             "#d8576b"
            ],
            [
             0.6666666666666666,
             "#ed7953"
            ],
            [
             0.7777777777777778,
             "#fb9f3a"
            ],
            [
             0.8888888888888888,
             "#fdca26"
            ],
            [
             1,
             "#f0f921"
            ]
           ],
           "sequentialminus": [
            [
             0,
             "#0d0887"
            ],
            [
             0.1111111111111111,
             "#46039f"
            ],
            [
             0.2222222222222222,
             "#7201a8"
            ],
            [
             0.3333333333333333,
             "#9c179e"
            ],
            [
             0.4444444444444444,
             "#bd3786"
            ],
            [
             0.5555555555555556,
             "#d8576b"
            ],
            [
             0.6666666666666666,
             "#ed7953"
            ],
            [
             0.7777777777777778,
             "#fb9f3a"
            ],
            [
             0.8888888888888888,
             "#fdca26"
            ],
            [
             1,
             "#f0f921"
            ]
           ]
          },
          "colorway": [
           "#636efa",
           "#EF553B",
           "#00cc96",
           "#ab63fa",
           "#FFA15A",
           "#19d3f3",
           "#FF6692",
           "#B6E880",
           "#FF97FF",
           "#FECB52"
          ],
          "font": {
           "color": "#2a3f5f"
          },
          "geo": {
           "bgcolor": "white",
           "lakecolor": "white",
           "landcolor": "#E5ECF6",
           "showlakes": true,
           "showland": true,
           "subunitcolor": "white"
          },
          "hoverlabel": {
           "align": "left"
          },
          "hovermode": "closest",
          "mapbox": {
           "style": "light"
          },
          "paper_bgcolor": "white",
          "plot_bgcolor": "#E5ECF6",
          "polar": {
           "angularaxis": {
            "gridcolor": "white",
            "linecolor": "white",
            "ticks": ""
           },
           "bgcolor": "#E5ECF6",
           "radialaxis": {
            "gridcolor": "white",
            "linecolor": "white",
            "ticks": ""
           }
          },
          "scene": {
           "xaxis": {
            "backgroundcolor": "#E5ECF6",
            "gridcolor": "white",
            "gridwidth": 2,
            "linecolor": "white",
            "showbackground": true,
            "ticks": "",
            "zerolinecolor": "white"
           },
           "yaxis": {
            "backgroundcolor": "#E5ECF6",
            "gridcolor": "white",
            "gridwidth": 2,
            "linecolor": "white",
            "showbackground": true,
            "ticks": "",
            "zerolinecolor": "white"
           },
           "zaxis": {
            "backgroundcolor": "#E5ECF6",
            "gridcolor": "white",
            "gridwidth": 2,
            "linecolor": "white",
            "showbackground": true,
            "ticks": "",
            "zerolinecolor": "white"
           }
          },
          "shapedefaults": {
           "line": {
            "color": "#2a3f5f"
           }
          },
          "ternary": {
           "aaxis": {
            "gridcolor": "white",
            "linecolor": "white",
            "ticks": ""
           },
           "baxis": {
            "gridcolor": "white",
            "linecolor": "white",
            "ticks": ""
           },
           "bgcolor": "#E5ECF6",
           "caxis": {
            "gridcolor": "white",
            "linecolor": "white",
            "ticks": ""
           }
          },
          "title": {
           "x": 0.05
          },
          "xaxis": {
           "automargin": true,
           "gridcolor": "white",
           "linecolor": "white",
           "ticks": "",
           "title": {
            "standoff": 15
           },
           "zerolinecolor": "white",
           "zerolinewidth": 2
          },
          "yaxis": {
           "automargin": true,
           "gridcolor": "white",
           "linecolor": "white",
           "ticks": "",
           "title": {
            "standoff": 15
           },
           "zerolinecolor": "white",
           "zerolinewidth": 2
          }
         }
        },
        "title": {
         "font": {
          "size": 22
         },
         "text": "Histogram of Correct Answers Distribution"
        },
        "width": 1000,
        "xaxis": {
         "anchor": "y",
         "domain": [
          0,
          1
         ],
         "tickfont": {
          "size": 19
         },
         "title": {
          "font": {
           "size": 23
          },
          "text": "Correct Answers"
         }
        },
        "yaxis": {
         "anchor": "x",
         "domain": [
          0,
          1
         ],
         "tickfont": {
          "size": 19
         },
         "title": {
          "font": {
           "size": 23
          },
          "text": "count"
         }
        }
       }
      }
     },
     "metadata": {},
     "output_type": "display_data"
    }
   ],
   "source": [
    "df = participants_df\n",
    "df = df.sort_values(by='sum_answ')\n",
    "\n",
    "def categorize_correct_answers(value):\n",
    "    if value < 10:\n",
    "        return 'Q1'\n",
    "    elif 10 <= value < 20:\n",
    "        return 'Q2'\n",
    "    elif 20 <= value < 30:\n",
    "        return 'Q3'\n",
    "    else:\n",
    "        return 'Q4'\n",
    "\n",
    "# Apply the categorization\n",
    "df['Quartile'] = df['sum_answ'].apply(categorize_correct_answers)\n",
    "\n",
    "color_scale = {\n",
    "    'Q1': 'rgba(0, 0, 255, 0.2)',\n",
    "    'Q2': 'rgba(0, 0, 255, 0.4)',\n",
    "    'Q3': 'rgba(0, 0, 255, 0.55)',\n",
    "    'Q4': 'rgba(0, 0, 255, 0.7)'\n",
    "}\n",
    "\n",
    "# Create histogram using Plotly\n",
    "fig = px.histogram(df, x='sum_answ', nbins=20, color='Quartile',\n",
    "                   color_discrete_map=color_scale,\n",
    "                   labels={'sum_answ': 'Correct Answers'},\n",
    "                   title='Histogram of Correct Answers Distribution')\n",
    "# set font `size` for x and y axes and title\n",
    "fig.update_xaxes(tickfont=dict(size=19), title_font_size=23)\n",
    "fig.update_yaxes(tickfont=dict(size=19), title_font_size=23)\n",
    "fig.update_layout(title_font_size=22)\n",
    "\n",
    "fig.update_traces(marker=dict(line=dict(width=2, color='DarkSlateGrey')))\n",
    "fig.update_layout(showlegend=True, legend=dict(font=dict(size=18)))\n",
    "\n",
    "# set the figure size\n",
    "fig.update_layout(width=1000, height=450)\n",
    "fig.show()"
   ]
  },
  {
   "cell_type": "markdown",
   "metadata": {},
   "source": [
    "The graph below shows the ability (agency) of the participants to answer the test questions. Ability is calculated using Item Response Theory (IRT), which measures an individual's proficiency or skill level in the domain being tested. Ability is typically represented on a continuous scale, with a mean of 0. This scale is arbitrary but helps in interpreting the relative proficiency of individuals within the tested group.\n",
    "\n",
    "The standard deviation (SD) indicates the variability in the abilities of participants who were able to answer a certain number of questions correctly."
   ]
  },
  {
   "cell_type": "code",
   "execution_count": 17,
   "metadata": {},
   "outputs": [
    {
     "data": {
      "application/vnd.plotly.v1+json": {
       "config": {
        "plotlyServerURL": "https://plot.ly"
       },
       "data": [
        {
         "fill": "toself",
         "fillcolor": "LightSkyBlue",
         "line": {
          "color": "rgba(255,255,255,0)"
         },
         "name": "SD",
         "showlegend": true,
         "type": "scatter",
         "x": [
          5,
          7,
          9,
          10,
          11,
          12,
          13,
          14,
          15,
          16,
          17,
          18,
          19,
          20,
          21,
          22,
          23,
          24,
          25,
          29,
          30,
          31,
          32,
          33,
          34,
          35,
          35,
          34,
          33,
          32,
          31,
          30,
          29,
          25,
          24,
          23,
          22,
          21,
          20,
          19,
          18,
          17,
          16,
          15,
          14,
          13,
          12,
          11,
          10,
          9,
          7,
          5
         ],
         "y": [
          -1.1655292510986328,
          -0.9009896516799927,
          -0.6751146801942989,
          -0.38923830885440125,
          -0.42815330624580383,
          -0.22264262037716642,
          -0.10600516218547079,
          -0.14354973779663738,
          0.35243782625517817,
          0.3597186535678088,
          0.18811679421241126,
          0.26198111342803054,
          -0.0057889227627217765,
          0.17125636487135576,
          0.21507982525031094,
          0.26273107830698317,
          0.5388632718212993,
          0.48434525410967055,
          0.25834065675735474,
          1.5326954812577926,
          1.5610884428024292,
          1.4954921254182207,
          1.5951316461683067,
          1.6383714252045574,
          1.5733880646844,
          1.6921487948673568,
          1.5922395684940018,
          1.5180420033316522,
          1.530115765995699,
          1.5033412404470226,
          1.4700239649748457,
          1.5610884428024292,
          1.4621933608480728,
          0.25834065675735474,
          0.17035691260658714,
          0.1078757148496716,
          -0.052567256530275205,
          -0.1454819591900987,
          -0.2121612220896213,
          -0.3427607517351955,
          -0.38569601446927004,
          -0.3793959477382406,
          -0.40242990343091684,
          -0.21393532157859774,
          -0.6700899509745807,
          -0.3177141753971174,
          -0.3505000929311679,
          -0.42815330624580383,
          -0.9033668230101465,
          -0.7177738657956914,
          -0.9009896516799927,
          -1.1655292510986328
         ]
        },
        {
         "line": {
          "color": "blue",
          "width": 2
         },
         "mode": "lines",
         "name": "Mean Value",
         "type": "scatter",
         "x": [
          5,
          7,
          9,
          10,
          11,
          12,
          13,
          14,
          15,
          16,
          17,
          18,
          19,
          20,
          21,
          22,
          23,
          24,
          25,
          29,
          30,
          31,
          32,
          33,
          34,
          35
         ],
         "y": [
          -1.1655292510986328,
          -0.9009896516799927,
          -0.6964442729949951,
          -0.6463025659322739,
          -0.42815330624580383,
          -0.28657135665416716,
          -0.2118596687912941,
          -0.40681984438560903,
          0.06925125233829021,
          -0.021355624931554,
          -0.09563957676291465,
          -0.06185745052061975,
          -0.17427483724895865,
          -0.020452428609132767,
          0.03479893303010613,
          0.10508191088835399,
          0.3233694933354855,
          0.32735108335812885,
          0.25834065675735474,
          1.4974444210529327,
          1.5610884428024292,
          1.4827580451965332,
          1.5492364433076646,
          1.5842435956001282,
          1.5457150340080261,
          1.6421941816806793
         ]
        }
       ],
       "layout": {
        "height": 450,
        "legend": {
         "font": {
          "size": 18
         }
        },
        "showlegend": true,
        "template": {
         "data": {
          "bar": [
           {
            "error_x": {
             "color": "#2a3f5f"
            },
            "error_y": {
             "color": "#2a3f5f"
            },
            "marker": {
             "line": {
              "color": "#E5ECF6",
              "width": 0.5
             },
             "pattern": {
              "fillmode": "overlay",
              "size": 10,
              "solidity": 0.2
             }
            },
            "type": "bar"
           }
          ],
          "barpolar": [
           {
            "marker": {
             "line": {
              "color": "#E5ECF6",
              "width": 0.5
             },
             "pattern": {
              "fillmode": "overlay",
              "size": 10,
              "solidity": 0.2
             }
            },
            "type": "barpolar"
           }
          ],
          "carpet": [
           {
            "aaxis": {
             "endlinecolor": "#2a3f5f",
             "gridcolor": "white",
             "linecolor": "white",
             "minorgridcolor": "white",
             "startlinecolor": "#2a3f5f"
            },
            "baxis": {
             "endlinecolor": "#2a3f5f",
             "gridcolor": "white",
             "linecolor": "white",
             "minorgridcolor": "white",
             "startlinecolor": "#2a3f5f"
            },
            "type": "carpet"
           }
          ],
          "choropleth": [
           {
            "colorbar": {
             "outlinewidth": 0,
             "ticks": ""
            },
            "type": "choropleth"
           }
          ],
          "contour": [
           {
            "colorbar": {
             "outlinewidth": 0,
             "ticks": ""
            },
            "colorscale": [
             [
              0,
              "#0d0887"
             ],
             [
              0.1111111111111111,
              "#46039f"
             ],
             [
              0.2222222222222222,
              "#7201a8"
             ],
             [
              0.3333333333333333,
              "#9c179e"
             ],
             [
              0.4444444444444444,
              "#bd3786"
             ],
             [
              0.5555555555555556,
              "#d8576b"
             ],
             [
              0.6666666666666666,
              "#ed7953"
             ],
             [
              0.7777777777777778,
              "#fb9f3a"
             ],
             [
              0.8888888888888888,
              "#fdca26"
             ],
             [
              1,
              "#f0f921"
             ]
            ],
            "type": "contour"
           }
          ],
          "contourcarpet": [
           {
            "colorbar": {
             "outlinewidth": 0,
             "ticks": ""
            },
            "type": "contourcarpet"
           }
          ],
          "heatmap": [
           {
            "colorbar": {
             "outlinewidth": 0,
             "ticks": ""
            },
            "colorscale": [
             [
              0,
              "#0d0887"
             ],
             [
              0.1111111111111111,
              "#46039f"
             ],
             [
              0.2222222222222222,
              "#7201a8"
             ],
             [
              0.3333333333333333,
              "#9c179e"
             ],
             [
              0.4444444444444444,
              "#bd3786"
             ],
             [
              0.5555555555555556,
              "#d8576b"
             ],
             [
              0.6666666666666666,
              "#ed7953"
             ],
             [
              0.7777777777777778,
              "#fb9f3a"
             ],
             [
              0.8888888888888888,
              "#fdca26"
             ],
             [
              1,
              "#f0f921"
             ]
            ],
            "type": "heatmap"
           }
          ],
          "heatmapgl": [
           {
            "colorbar": {
             "outlinewidth": 0,
             "ticks": ""
            },
            "colorscale": [
             [
              0,
              "#0d0887"
             ],
             [
              0.1111111111111111,
              "#46039f"
             ],
             [
              0.2222222222222222,
              "#7201a8"
             ],
             [
              0.3333333333333333,
              "#9c179e"
             ],
             [
              0.4444444444444444,
              "#bd3786"
             ],
             [
              0.5555555555555556,
              "#d8576b"
             ],
             [
              0.6666666666666666,
              "#ed7953"
             ],
             [
              0.7777777777777778,
              "#fb9f3a"
             ],
             [
              0.8888888888888888,
              "#fdca26"
             ],
             [
              1,
              "#f0f921"
             ]
            ],
            "type": "heatmapgl"
           }
          ],
          "histogram": [
           {
            "marker": {
             "pattern": {
              "fillmode": "overlay",
              "size": 10,
              "solidity": 0.2
             }
            },
            "type": "histogram"
           }
          ],
          "histogram2d": [
           {
            "colorbar": {
             "outlinewidth": 0,
             "ticks": ""
            },
            "colorscale": [
             [
              0,
              "#0d0887"
             ],
             [
              0.1111111111111111,
              "#46039f"
             ],
             [
              0.2222222222222222,
              "#7201a8"
             ],
             [
              0.3333333333333333,
              "#9c179e"
             ],
             [
              0.4444444444444444,
              "#bd3786"
             ],
             [
              0.5555555555555556,
              "#d8576b"
             ],
             [
              0.6666666666666666,
              "#ed7953"
             ],
             [
              0.7777777777777778,
              "#fb9f3a"
             ],
             [
              0.8888888888888888,
              "#fdca26"
             ],
             [
              1,
              "#f0f921"
             ]
            ],
            "type": "histogram2d"
           }
          ],
          "histogram2dcontour": [
           {
            "colorbar": {
             "outlinewidth": 0,
             "ticks": ""
            },
            "colorscale": [
             [
              0,
              "#0d0887"
             ],
             [
              0.1111111111111111,
              "#46039f"
             ],
             [
              0.2222222222222222,
              "#7201a8"
             ],
             [
              0.3333333333333333,
              "#9c179e"
             ],
             [
              0.4444444444444444,
              "#bd3786"
             ],
             [
              0.5555555555555556,
              "#d8576b"
             ],
             [
              0.6666666666666666,
              "#ed7953"
             ],
             [
              0.7777777777777778,
              "#fb9f3a"
             ],
             [
              0.8888888888888888,
              "#fdca26"
             ],
             [
              1,
              "#f0f921"
             ]
            ],
            "type": "histogram2dcontour"
           }
          ],
          "mesh3d": [
           {
            "colorbar": {
             "outlinewidth": 0,
             "ticks": ""
            },
            "type": "mesh3d"
           }
          ],
          "parcoords": [
           {
            "line": {
             "colorbar": {
              "outlinewidth": 0,
              "ticks": ""
             }
            },
            "type": "parcoords"
           }
          ],
          "pie": [
           {
            "automargin": true,
            "type": "pie"
           }
          ],
          "scatter": [
           {
            "fillpattern": {
             "fillmode": "overlay",
             "size": 10,
             "solidity": 0.2
            },
            "type": "scatter"
           }
          ],
          "scatter3d": [
           {
            "line": {
             "colorbar": {
              "outlinewidth": 0,
              "ticks": ""
             }
            },
            "marker": {
             "colorbar": {
              "outlinewidth": 0,
              "ticks": ""
             }
            },
            "type": "scatter3d"
           }
          ],
          "scattercarpet": [
           {
            "marker": {
             "colorbar": {
              "outlinewidth": 0,
              "ticks": ""
             }
            },
            "type": "scattercarpet"
           }
          ],
          "scattergeo": [
           {
            "marker": {
             "colorbar": {
              "outlinewidth": 0,
              "ticks": ""
             }
            },
            "type": "scattergeo"
           }
          ],
          "scattergl": [
           {
            "marker": {
             "colorbar": {
              "outlinewidth": 0,
              "ticks": ""
             }
            },
            "type": "scattergl"
           }
          ],
          "scattermapbox": [
           {
            "marker": {
             "colorbar": {
              "outlinewidth": 0,
              "ticks": ""
             }
            },
            "type": "scattermapbox"
           }
          ],
          "scatterpolar": [
           {
            "marker": {
             "colorbar": {
              "outlinewidth": 0,
              "ticks": ""
             }
            },
            "type": "scatterpolar"
           }
          ],
          "scatterpolargl": [
           {
            "marker": {
             "colorbar": {
              "outlinewidth": 0,
              "ticks": ""
             }
            },
            "type": "scatterpolargl"
           }
          ],
          "scatterternary": [
           {
            "marker": {
             "colorbar": {
              "outlinewidth": 0,
              "ticks": ""
             }
            },
            "type": "scatterternary"
           }
          ],
          "surface": [
           {
            "colorbar": {
             "outlinewidth": 0,
             "ticks": ""
            },
            "colorscale": [
             [
              0,
              "#0d0887"
             ],
             [
              0.1111111111111111,
              "#46039f"
             ],
             [
              0.2222222222222222,
              "#7201a8"
             ],
             [
              0.3333333333333333,
              "#9c179e"
             ],
             [
              0.4444444444444444,
              "#bd3786"
             ],
             [
              0.5555555555555556,
              "#d8576b"
             ],
             [
              0.6666666666666666,
              "#ed7953"
             ],
             [
              0.7777777777777778,
              "#fb9f3a"
             ],
             [
              0.8888888888888888,
              "#fdca26"
             ],
             [
              1,
              "#f0f921"
             ]
            ],
            "type": "surface"
           }
          ],
          "table": [
           {
            "cells": {
             "fill": {
              "color": "#EBF0F8"
             },
             "line": {
              "color": "white"
             }
            },
            "header": {
             "fill": {
              "color": "#C8D4E3"
             },
             "line": {
              "color": "white"
             }
            },
            "type": "table"
           }
          ]
         },
         "layout": {
          "annotationdefaults": {
           "arrowcolor": "#2a3f5f",
           "arrowhead": 0,
           "arrowwidth": 1
          },
          "autotypenumbers": "strict",
          "coloraxis": {
           "colorbar": {
            "outlinewidth": 0,
            "ticks": ""
           }
          },
          "colorscale": {
           "diverging": [
            [
             0,
             "#8e0152"
            ],
            [
             0.1,
             "#c51b7d"
            ],
            [
             0.2,
             "#de77ae"
            ],
            [
             0.3,
             "#f1b6da"
            ],
            [
             0.4,
             "#fde0ef"
            ],
            [
             0.5,
             "#f7f7f7"
            ],
            [
             0.6,
             "#e6f5d0"
            ],
            [
             0.7,
             "#b8e186"
            ],
            [
             0.8,
             "#7fbc41"
            ],
            [
             0.9,
             "#4d9221"
            ],
            [
             1,
             "#276419"
            ]
           ],
           "sequential": [
            [
             0,
             "#0d0887"
            ],
            [
             0.1111111111111111,
             "#46039f"
            ],
            [
             0.2222222222222222,
             "#7201a8"
            ],
            [
             0.3333333333333333,
             "#9c179e"
            ],
            [
             0.4444444444444444,
             "#bd3786"
            ],
            [
             0.5555555555555556,
             "#d8576b"
            ],
            [
             0.6666666666666666,
             "#ed7953"
            ],
            [
             0.7777777777777778,
             "#fb9f3a"
            ],
            [
             0.8888888888888888,
             "#fdca26"
            ],
            [
             1,
             "#f0f921"
            ]
           ],
           "sequentialminus": [
            [
             0,
             "#0d0887"
            ],
            [
             0.1111111111111111,
             "#46039f"
            ],
            [
             0.2222222222222222,
             "#7201a8"
            ],
            [
             0.3333333333333333,
             "#9c179e"
            ],
            [
             0.4444444444444444,
             "#bd3786"
            ],
            [
             0.5555555555555556,
             "#d8576b"
            ],
            [
             0.6666666666666666,
             "#ed7953"
            ],
            [
             0.7777777777777778,
             "#fb9f3a"
            ],
            [
             0.8888888888888888,
             "#fdca26"
            ],
            [
             1,
             "#f0f921"
            ]
           ]
          },
          "colorway": [
           "#636efa",
           "#EF553B",
           "#00cc96",
           "#ab63fa",
           "#FFA15A",
           "#19d3f3",
           "#FF6692",
           "#B6E880",
           "#FF97FF",
           "#FECB52"
          ],
          "font": {
           "color": "#2a3f5f"
          },
          "geo": {
           "bgcolor": "white",
           "lakecolor": "white",
           "landcolor": "#E5ECF6",
           "showlakes": true,
           "showland": true,
           "subunitcolor": "white"
          },
          "hoverlabel": {
           "align": "left"
          },
          "hovermode": "closest",
          "mapbox": {
           "style": "light"
          },
          "paper_bgcolor": "white",
          "plot_bgcolor": "#E5ECF6",
          "polar": {
           "angularaxis": {
            "gridcolor": "white",
            "linecolor": "white",
            "ticks": ""
           },
           "bgcolor": "#E5ECF6",
           "radialaxis": {
            "gridcolor": "white",
            "linecolor": "white",
            "ticks": ""
           }
          },
          "scene": {
           "xaxis": {
            "backgroundcolor": "#E5ECF6",
            "gridcolor": "white",
            "gridwidth": 2,
            "linecolor": "white",
            "showbackground": true,
            "ticks": "",
            "zerolinecolor": "white"
           },
           "yaxis": {
            "backgroundcolor": "#E5ECF6",
            "gridcolor": "white",
            "gridwidth": 2,
            "linecolor": "white",
            "showbackground": true,
            "ticks": "",
            "zerolinecolor": "white"
           },
           "zaxis": {
            "backgroundcolor": "#E5ECF6",
            "gridcolor": "white",
            "gridwidth": 2,
            "linecolor": "white",
            "showbackground": true,
            "ticks": "",
            "zerolinecolor": "white"
           }
          },
          "shapedefaults": {
           "line": {
            "color": "#2a3f5f"
           }
          },
          "ternary": {
           "aaxis": {
            "gridcolor": "white",
            "linecolor": "white",
            "ticks": ""
           },
           "baxis": {
            "gridcolor": "white",
            "linecolor": "white",
            "ticks": ""
           },
           "bgcolor": "#E5ECF6",
           "caxis": {
            "gridcolor": "white",
            "linecolor": "white",
            "ticks": ""
           }
          },
          "title": {
           "x": 0.05
          },
          "xaxis": {
           "automargin": true,
           "gridcolor": "white",
           "linecolor": "white",
           "ticks": "",
           "title": {
            "standoff": 15
           },
           "zerolinecolor": "white",
           "zerolinewidth": 2
          },
          "yaxis": {
           "automargin": true,
           "gridcolor": "white",
           "linecolor": "white",
           "ticks": "",
           "title": {
            "standoff": 15
           },
           "zerolinecolor": "white",
           "zerolinewidth": 2
          }
         }
        },
        "title": {
         "font": {
          "size": 22
         },
         "text": "Correct Answers vs Ability"
        },
        "width": 1000,
        "xaxis": {
         "tickfont": {
          "size": 19
         },
         "title": {
          "font": {
           "size": 23
          },
          "text": "Correct Answers"
         }
        },
        "yaxis": {
         "tickfont": {
          "size": 19
         },
         "title": {
          "font": {
           "size": 23
          },
          "text": "Ability"
         }
        }
       }
      }
     },
     "metadata": {},
     "output_type": "display_data"
    }
   ],
   "source": [
    "# Calculate mean and standard deviation for each unique value in 'sum_answ'\n",
    "df = participants_df\n",
    "stats = df.groupby('sum_answ')['ability'].agg(['mean', 'std']).reset_index()\n",
    "stats.columns = ['sum_answ', 'mean', 'std']\n",
    "\n",
    "# Replace NaN values with 0 in stats\n",
    "stats.fillna({'std': 0}, inplace=True)\n",
    "\n",
    "# Create the figure\n",
    "fig = go.Figure()\n",
    "\n",
    "# Add fill between lines for the range (-SD, +SD)\n",
    "fig.add_trace(go.Scatter(\n",
    "    x=pd.concat([stats['sum_answ'], stats['sum_answ'][::-1]]),\n",
    "    y=pd.concat([stats['mean'] + stats['std'], (stats['mean'] - stats['std'])[::-1]]),\n",
    "    fill='toself',\n",
    "    fillcolor='LightSkyBlue',\n",
    "    line=dict(color='rgba(255,255,255,0)'),\n",
    "    name='SD',\n",
    "    showlegend=True\n",
    "))\n",
    "\n",
    "# Add line representing mean value for each unique sum_answ\n",
    "fig.add_trace(go.Scatter(x=stats['sum_answ'], y=stats['mean'], mode='lines',\n",
    "                         line=dict(width=2, color='blue'),\n",
    "                         name='Mean Value'))\n",
    "\n",
    "# Update layout\n",
    "fig.update_layout(\n",
    "    title='Correct Answers vs Ability',\n",
    "    xaxis_title='Correct Answers',\n",
    "    yaxis_title='Ability'\n",
    ")\n",
    "\n",
    "# set font size for x and y axes and title\n",
    "fig.update_xaxes(tickfont=dict(size=19), title_font_size=23)\n",
    "fig.update_yaxes(tickfont=dict(size=19), title_font_size=23)\n",
    "fig.update_layout(title_font_size=22)\n",
    "\n",
    "fig.update_layout(showlegend=True, legend=dict(font=dict(size=18)))\n",
    "\n",
    "# set the figure size\n",
    "fig.update_layout(width=1000, height=450)\n",
    "fig.show()"
   ]
  },
  {
   "cell_type": "markdown",
   "metadata": {},
   "source": [
    "On the graph below, you can see the questions (words) ranked according to the time spent on each question and the average percentage of correct answers.\n",
    "To change the representation, please select the desired scale from the drop-down menu."
   ]
  },
  {
   "cell_type": "code",
   "execution_count": 11,
   "metadata": {},
   "outputs": [
    {
     "data": {
      "application/vnd.plotly.v1+json": {
       "config": {
        "plotlyServerURL": "https://plot.ly"
       },
       "data": [
        {
         "marker": {
          "color": "lightgreen"
         },
         "name": "Average Mistakes",
         "offsetgroup": "2",
         "opacity": 0.5,
         "type": "bar",
         "x": [
          "HIDEOUS",
          "SOLEMN",
          "FORTIFY",
          "INEXORABLE",
          "SQUANDER",
          "PEREGRINATE",
          "MERIT",
          "DESUETUDE",
          "HAUL",
          "PLAGIARIZE",
          "ORIFICE",
          "FASCINATE",
          "SERRATED",
          "INNOCUOUS",
          "QUERULOUS",
          "RENOWN",
          "JOCOSE",
          "CORDIAL",
          "QUOTIDIAN",
          "AMULET",
          "RUE",
          "IGNORANT",
          "EVIDENT",
          "FACILITATE",
          "STERILE",
          "CAPTION",
          "INDICATE",
          "HILARITY",
          "PARDON",
          "COUCH",
          "ABET",
          "TALK",
          "PRISTINE",
          "NARRATE",
          "IMPOSTOR",
          "MASSIVE",
          "DIVEST",
          "PROBABLE",
          "MOLLIFY",
          "REMEMBER"
         ],
         "y": [
          0.4083333333333333,
          0.625,
          0.7,
          0.6666666666666666,
          0.3166666666666666,
          0.275,
          0.6166666666666667,
          0.625,
          0.35,
          0.65,
          0.35,
          0.5833333333333334,
          0.5833333333333334,
          0.35,
          0.4583333333333333,
          0.325,
          0.3666666666666666,
          0.6166666666666667,
          0.3833333333333333,
          0.6583333333333333,
          0.55,
          0.575,
          0.6166666666666667,
          0.325,
          0.4166666666666667,
          0.5916666666666667,
          0.4416666666666666,
          0.5666666666666667,
          0.625,
          0.6083333333333333,
          0.575,
          0.6,
          0.3583333333333333,
          0.6583333333333333,
          0.5916666666666667,
          0.6666666666666666,
          0.3666666666666666,
          0.6166666666666667,
          0.6416666666666667,
          0.6083333333333333
         ],
         "yaxis": "y2"
        },
        {
         "marker": {
          "color": "blue"
         },
         "name": "Time Spent (seconds)",
         "offsetgroup": "1",
         "opacity": 1,
         "type": "bar",
         "x": [
          "HIDEOUS",
          "SOLEMN",
          "FORTIFY",
          "INEXORABLE",
          "SQUANDER",
          "PEREGRINATE",
          "MERIT",
          "DESUETUDE",
          "HAUL",
          "PLAGIARIZE",
          "ORIFICE",
          "FASCINATE",
          "SERRATED",
          "INNOCUOUS",
          "QUERULOUS",
          "RENOWN",
          "JOCOSE",
          "CORDIAL",
          "QUOTIDIAN",
          "AMULET",
          "RUE",
          "IGNORANT",
          "EVIDENT",
          "FACILITATE",
          "STERILE",
          "CAPTION",
          "INDICATE",
          "HILARITY",
          "PARDON",
          "COUCH",
          "ABET",
          "TALK",
          "PRISTINE",
          "NARRATE",
          "IMPOSTOR",
          "MASSIVE",
          "DIVEST",
          "PROBABLE",
          "MOLLIFY",
          "REMEMBER"
         ],
         "y": [
          14.460438688568395,
          14.304801010092397,
          13.774827949917192,
          13.27124167051356,
          13.20313604406104,
          10.640416619699128,
          10.458156899251831,
          9.94200403666737,
          9.311504325445918,
          9.21046382275297,
          8.800281965274868,
          8.770552774101159,
          8.695435750669256,
          8.117178981454613,
          8.027714330559999,
          7.377788737854714,
          7.360874554137563,
          7.340293861126372,
          7.318926035219435,
          6.764087883772648,
          6.671546364359105,
          6.524136271390969,
          6.3013891326682945,
          6.27916023448914,
          6.087141462452701,
          5.9936679625474145,
          5.787633044251293,
          4.479684067261056,
          4.442633764485827,
          4.40372873261597,
          4.191663728444512,
          4.018870653372928,
          3.9546507418370687,
          3.8062080347560303,
          3.5518062696933397,
          3.417312815925695,
          3.414850514456354,
          3.28915635348964,
          2.972276566834398,
          2.946823624364393
         ],
         "yaxis": "y"
        },
        {
         "marker": {
          "color": "lightgreen"
         },
         "name": "Average Mistakes",
         "offsetgroup": "2",
         "opacity": 1,
         "type": "bar",
         "visible": false,
         "x": [
          "FORTIFY",
          "INEXORABLE",
          "MASSIVE",
          "NARRATE",
          "AMULET",
          "PLAGIARIZE",
          "MOLLIFY",
          "SOLEMN",
          "PARDON",
          "DESUETUDE",
          "PROBABLE",
          "CORDIAL",
          "EVIDENT",
          "MERIT",
          "REMEMBER",
          "COUCH",
          "TALK",
          "IMPOSTOR",
          "CAPTION",
          "FASCINATE",
          "SERRATED",
          "ABET",
          "IGNORANT",
          "HILARITY",
          "RUE",
          "QUERULOUS",
          "INDICATE",
          "STERILE",
          "HIDEOUS",
          "QUOTIDIAN",
          "JOCOSE",
          "DIVEST",
          "PRISTINE",
          "INNOCUOUS",
          "ORIFICE",
          "HAUL",
          "RENOWN",
          "FACILITATE",
          "SQUANDER",
          "PEREGRINATE"
         ],
         "y": [
          0.7,
          0.6666666666666666,
          0.6666666666666666,
          0.6583333333333333,
          0.6583333333333333,
          0.65,
          0.6416666666666667,
          0.625,
          0.625,
          0.625,
          0.6166666666666667,
          0.6166666666666667,
          0.6166666666666667,
          0.6166666666666667,
          0.6083333333333333,
          0.6083333333333333,
          0.6,
          0.5916666666666667,
          0.5916666666666667,
          0.5833333333333334,
          0.5833333333333334,
          0.575,
          0.575,
          0.5666666666666667,
          0.55,
          0.4583333333333333,
          0.4416666666666666,
          0.4166666666666667,
          0.4083333333333333,
          0.3833333333333333,
          0.3666666666666666,
          0.3666666666666666,
          0.3583333333333333,
          0.35,
          0.35,
          0.35,
          0.325,
          0.325,
          0.3166666666666666,
          0.275
         ],
         "yaxis": "y2"
        },
        {
         "marker": {
          "color": "blue"
         },
         "name": "Time Spent (seconds)",
         "offsetgroup": "1",
         "opacity": 0.45,
         "type": "bar",
         "visible": false,
         "x": [
          "FORTIFY",
          "INEXORABLE",
          "MASSIVE",
          "NARRATE",
          "AMULET",
          "PLAGIARIZE",
          "MOLLIFY",
          "SOLEMN",
          "PARDON",
          "DESUETUDE",
          "PROBABLE",
          "CORDIAL",
          "EVIDENT",
          "MERIT",
          "REMEMBER",
          "COUCH",
          "TALK",
          "IMPOSTOR",
          "CAPTION",
          "FASCINATE",
          "SERRATED",
          "ABET",
          "IGNORANT",
          "HILARITY",
          "RUE",
          "QUERULOUS",
          "INDICATE",
          "STERILE",
          "HIDEOUS",
          "QUOTIDIAN",
          "JOCOSE",
          "DIVEST",
          "PRISTINE",
          "INNOCUOUS",
          "ORIFICE",
          "HAUL",
          "RENOWN",
          "FACILITATE",
          "SQUANDER",
          "PEREGRINATE"
         ],
         "y": [
          13.774827949917192,
          13.27124167051356,
          3.417312815925695,
          3.8062080347560303,
          6.764087883772648,
          9.21046382275297,
          2.972276566834398,
          14.304801010092397,
          4.442633764485827,
          9.94200403666737,
          3.28915635348964,
          7.340293861126372,
          6.3013891326682945,
          10.458156899251831,
          2.946823624364393,
          4.40372873261597,
          4.018870653372928,
          3.5518062696933397,
          5.9936679625474145,
          8.770552774101159,
          8.695435750669256,
          4.191663728444512,
          6.524136271390969,
          4.479684067261056,
          6.671546364359105,
          8.027714330559999,
          5.787633044251293,
          6.087141462452701,
          14.460438688568395,
          7.318926035219435,
          7.360874554137563,
          3.414850514456354,
          3.9546507418370687,
          8.117178981454613,
          8.800281965274868,
          9.311504325445918,
          7.377788737854714,
          6.27916023448914,
          13.20313604406104,
          10.640416619699128
         ],
         "yaxis": "y"
        }
       ],
       "layout": {
        "barmode": "group",
        "legend": {
         "font": {
          "size": 16
         },
         "x": 1,
         "xanchor": "left",
         "y": 1.13,
         "yanchor": "bottom"
        },
        "template": {
         "data": {
          "bar": [
           {
            "error_x": {
             "color": "#2a3f5f"
            },
            "error_y": {
             "color": "#2a3f5f"
            },
            "marker": {
             "line": {
              "color": "#E5ECF6",
              "width": 0.5
             },
             "pattern": {
              "fillmode": "overlay",
              "size": 10,
              "solidity": 0.2
             }
            },
            "type": "bar"
           }
          ],
          "barpolar": [
           {
            "marker": {
             "line": {
              "color": "#E5ECF6",
              "width": 0.5
             },
             "pattern": {
              "fillmode": "overlay",
              "size": 10,
              "solidity": 0.2
             }
            },
            "type": "barpolar"
           }
          ],
          "carpet": [
           {
            "aaxis": {
             "endlinecolor": "#2a3f5f",
             "gridcolor": "white",
             "linecolor": "white",
             "minorgridcolor": "white",
             "startlinecolor": "#2a3f5f"
            },
            "baxis": {
             "endlinecolor": "#2a3f5f",
             "gridcolor": "white",
             "linecolor": "white",
             "minorgridcolor": "white",
             "startlinecolor": "#2a3f5f"
            },
            "type": "carpet"
           }
          ],
          "choropleth": [
           {
            "colorbar": {
             "outlinewidth": 0,
             "ticks": ""
            },
            "type": "choropleth"
           }
          ],
          "contour": [
           {
            "colorbar": {
             "outlinewidth": 0,
             "ticks": ""
            },
            "colorscale": [
             [
              0,
              "#0d0887"
             ],
             [
              0.1111111111111111,
              "#46039f"
             ],
             [
              0.2222222222222222,
              "#7201a8"
             ],
             [
              0.3333333333333333,
              "#9c179e"
             ],
             [
              0.4444444444444444,
              "#bd3786"
             ],
             [
              0.5555555555555556,
              "#d8576b"
             ],
             [
              0.6666666666666666,
              "#ed7953"
             ],
             [
              0.7777777777777778,
              "#fb9f3a"
             ],
             [
              0.8888888888888888,
              "#fdca26"
             ],
             [
              1,
              "#f0f921"
             ]
            ],
            "type": "contour"
           }
          ],
          "contourcarpet": [
           {
            "colorbar": {
             "outlinewidth": 0,
             "ticks": ""
            },
            "type": "contourcarpet"
           }
          ],
          "heatmap": [
           {
            "colorbar": {
             "outlinewidth": 0,
             "ticks": ""
            },
            "colorscale": [
             [
              0,
              "#0d0887"
             ],
             [
              0.1111111111111111,
              "#46039f"
             ],
             [
              0.2222222222222222,
              "#7201a8"
             ],
             [
              0.3333333333333333,
              "#9c179e"
             ],
             [
              0.4444444444444444,
              "#bd3786"
             ],
             [
              0.5555555555555556,
              "#d8576b"
             ],
             [
              0.6666666666666666,
              "#ed7953"
             ],
             [
              0.7777777777777778,
              "#fb9f3a"
             ],
             [
              0.8888888888888888,
              "#fdca26"
             ],
             [
              1,
              "#f0f921"
             ]
            ],
            "type": "heatmap"
           }
          ],
          "heatmapgl": [
           {
            "colorbar": {
             "outlinewidth": 0,
             "ticks": ""
            },
            "colorscale": [
             [
              0,
              "#0d0887"
             ],
             [
              0.1111111111111111,
              "#46039f"
             ],
             [
              0.2222222222222222,
              "#7201a8"
             ],
             [
              0.3333333333333333,
              "#9c179e"
             ],
             [
              0.4444444444444444,
              "#bd3786"
             ],
             [
              0.5555555555555556,
              "#d8576b"
             ],
             [
              0.6666666666666666,
              "#ed7953"
             ],
             [
              0.7777777777777778,
              "#fb9f3a"
             ],
             [
              0.8888888888888888,
              "#fdca26"
             ],
             [
              1,
              "#f0f921"
             ]
            ],
            "type": "heatmapgl"
           }
          ],
          "histogram": [
           {
            "marker": {
             "pattern": {
              "fillmode": "overlay",
              "size": 10,
              "solidity": 0.2
             }
            },
            "type": "histogram"
           }
          ],
          "histogram2d": [
           {
            "colorbar": {
             "outlinewidth": 0,
             "ticks": ""
            },
            "colorscale": [
             [
              0,
              "#0d0887"
             ],
             [
              0.1111111111111111,
              "#46039f"
             ],
             [
              0.2222222222222222,
              "#7201a8"
             ],
             [
              0.3333333333333333,
              "#9c179e"
             ],
             [
              0.4444444444444444,
              "#bd3786"
             ],
             [
              0.5555555555555556,
              "#d8576b"
             ],
             [
              0.6666666666666666,
              "#ed7953"
             ],
             [
              0.7777777777777778,
              "#fb9f3a"
             ],
             [
              0.8888888888888888,
              "#fdca26"
             ],
             [
              1,
              "#f0f921"
             ]
            ],
            "type": "histogram2d"
           }
          ],
          "histogram2dcontour": [
           {
            "colorbar": {
             "outlinewidth": 0,
             "ticks": ""
            },
            "colorscale": [
             [
              0,
              "#0d0887"
             ],
             [
              0.1111111111111111,
              "#46039f"
             ],
             [
              0.2222222222222222,
              "#7201a8"
             ],
             [
              0.3333333333333333,
              "#9c179e"
             ],
             [
              0.4444444444444444,
              "#bd3786"
             ],
             [
              0.5555555555555556,
              "#d8576b"
             ],
             [
              0.6666666666666666,
              "#ed7953"
             ],
             [
              0.7777777777777778,
              "#fb9f3a"
             ],
             [
              0.8888888888888888,
              "#fdca26"
             ],
             [
              1,
              "#f0f921"
             ]
            ],
            "type": "histogram2dcontour"
           }
          ],
          "mesh3d": [
           {
            "colorbar": {
             "outlinewidth": 0,
             "ticks": ""
            },
            "type": "mesh3d"
           }
          ],
          "parcoords": [
           {
            "line": {
             "colorbar": {
              "outlinewidth": 0,
              "ticks": ""
             }
            },
            "type": "parcoords"
           }
          ],
          "pie": [
           {
            "automargin": true,
            "type": "pie"
           }
          ],
          "scatter": [
           {
            "fillpattern": {
             "fillmode": "overlay",
             "size": 10,
             "solidity": 0.2
            },
            "type": "scatter"
           }
          ],
          "scatter3d": [
           {
            "line": {
             "colorbar": {
              "outlinewidth": 0,
              "ticks": ""
             }
            },
            "marker": {
             "colorbar": {
              "outlinewidth": 0,
              "ticks": ""
             }
            },
            "type": "scatter3d"
           }
          ],
          "scattercarpet": [
           {
            "marker": {
             "colorbar": {
              "outlinewidth": 0,
              "ticks": ""
             }
            },
            "type": "scattercarpet"
           }
          ],
          "scattergeo": [
           {
            "marker": {
             "colorbar": {
              "outlinewidth": 0,
              "ticks": ""
             }
            },
            "type": "scattergeo"
           }
          ],
          "scattergl": [
           {
            "marker": {
             "colorbar": {
              "outlinewidth": 0,
              "ticks": ""
             }
            },
            "type": "scattergl"
           }
          ],
          "scattermapbox": [
           {
            "marker": {
             "colorbar": {
              "outlinewidth": 0,
              "ticks": ""
             }
            },
            "type": "scattermapbox"
           }
          ],
          "scatterpolar": [
           {
            "marker": {
             "colorbar": {
              "outlinewidth": 0,
              "ticks": ""
             }
            },
            "type": "scatterpolar"
           }
          ],
          "scatterpolargl": [
           {
            "marker": {
             "colorbar": {
              "outlinewidth": 0,
              "ticks": ""
             }
            },
            "type": "scatterpolargl"
           }
          ],
          "scatterternary": [
           {
            "marker": {
             "colorbar": {
              "outlinewidth": 0,
              "ticks": ""
             }
            },
            "type": "scatterternary"
           }
          ],
          "surface": [
           {
            "colorbar": {
             "outlinewidth": 0,
             "ticks": ""
            },
            "colorscale": [
             [
              0,
              "#0d0887"
             ],
             [
              0.1111111111111111,
              "#46039f"
             ],
             [
              0.2222222222222222,
              "#7201a8"
             ],
             [
              0.3333333333333333,
              "#9c179e"
             ],
             [
              0.4444444444444444,
              "#bd3786"
             ],
             [
              0.5555555555555556,
              "#d8576b"
             ],
             [
              0.6666666666666666,
              "#ed7953"
             ],
             [
              0.7777777777777778,
              "#fb9f3a"
             ],
             [
              0.8888888888888888,
              "#fdca26"
             ],
             [
              1,
              "#f0f921"
             ]
            ],
            "type": "surface"
           }
          ],
          "table": [
           {
            "cells": {
             "fill": {
              "color": "#EBF0F8"
             },
             "line": {
              "color": "white"
             }
            },
            "header": {
             "fill": {
              "color": "#C8D4E3"
             },
             "line": {
              "color": "white"
             }
            },
            "type": "table"
           }
          ]
         },
         "layout": {
          "annotationdefaults": {
           "arrowcolor": "#2a3f5f",
           "arrowhead": 0,
           "arrowwidth": 1
          },
          "autotypenumbers": "strict",
          "coloraxis": {
           "colorbar": {
            "outlinewidth": 0,
            "ticks": ""
           }
          },
          "colorscale": {
           "diverging": [
            [
             0,
             "#8e0152"
            ],
            [
             0.1,
             "#c51b7d"
            ],
            [
             0.2,
             "#de77ae"
            ],
            [
             0.3,
             "#f1b6da"
            ],
            [
             0.4,
             "#fde0ef"
            ],
            [
             0.5,
             "#f7f7f7"
            ],
            [
             0.6,
             "#e6f5d0"
            ],
            [
             0.7,
             "#b8e186"
            ],
            [
             0.8,
             "#7fbc41"
            ],
            [
             0.9,
             "#4d9221"
            ],
            [
             1,
             "#276419"
            ]
           ],
           "sequential": [
            [
             0,
             "#0d0887"
            ],
            [
             0.1111111111111111,
             "#46039f"
            ],
            [
             0.2222222222222222,
             "#7201a8"
            ],
            [
             0.3333333333333333,
             "#9c179e"
            ],
            [
             0.4444444444444444,
             "#bd3786"
            ],
            [
             0.5555555555555556,
             "#d8576b"
            ],
            [
             0.6666666666666666,
             "#ed7953"
            ],
            [
             0.7777777777777778,
             "#fb9f3a"
            ],
            [
             0.8888888888888888,
             "#fdca26"
            ],
            [
             1,
             "#f0f921"
            ]
           ],
           "sequentialminus": [
            [
             0,
             "#0d0887"
            ],
            [
             0.1111111111111111,
             "#46039f"
            ],
            [
             0.2222222222222222,
             "#7201a8"
            ],
            [
             0.3333333333333333,
             "#9c179e"
            ],
            [
             0.4444444444444444,
             "#bd3786"
            ],
            [
             0.5555555555555556,
             "#d8576b"
            ],
            [
             0.6666666666666666,
             "#ed7953"
            ],
            [
             0.7777777777777778,
             "#fb9f3a"
            ],
            [
             0.8888888888888888,
             "#fdca26"
            ],
            [
             1,
             "#f0f921"
            ]
           ]
          },
          "colorway": [
           "#636efa",
           "#EF553B",
           "#00cc96",
           "#ab63fa",
           "#FFA15A",
           "#19d3f3",
           "#FF6692",
           "#B6E880",
           "#FF97FF",
           "#FECB52"
          ],
          "font": {
           "color": "#2a3f5f"
          },
          "geo": {
           "bgcolor": "white",
           "lakecolor": "white",
           "landcolor": "#E5ECF6",
           "showlakes": true,
           "showland": true,
           "subunitcolor": "white"
          },
          "hoverlabel": {
           "align": "left"
          },
          "hovermode": "closest",
          "mapbox": {
           "style": "light"
          },
          "paper_bgcolor": "white",
          "plot_bgcolor": "#E5ECF6",
          "polar": {
           "angularaxis": {
            "gridcolor": "white",
            "linecolor": "white",
            "ticks": ""
           },
           "bgcolor": "#E5ECF6",
           "radialaxis": {
            "gridcolor": "white",
            "linecolor": "white",
            "ticks": ""
           }
          },
          "scene": {
           "xaxis": {
            "backgroundcolor": "#E5ECF6",
            "gridcolor": "white",
            "gridwidth": 2,
            "linecolor": "white",
            "showbackground": true,
            "ticks": "",
            "zerolinecolor": "white"
           },
           "yaxis": {
            "backgroundcolor": "#E5ECF6",
            "gridcolor": "white",
            "gridwidth": 2,
            "linecolor": "white",
            "showbackground": true,
            "ticks": "",
            "zerolinecolor": "white"
           },
           "zaxis": {
            "backgroundcolor": "#E5ECF6",
            "gridcolor": "white",
            "gridwidth": 2,
            "linecolor": "white",
            "showbackground": true,
            "ticks": "",
            "zerolinecolor": "white"
           }
          },
          "shapedefaults": {
           "line": {
            "color": "#2a3f5f"
           }
          },
          "ternary": {
           "aaxis": {
            "gridcolor": "white",
            "linecolor": "white",
            "ticks": ""
           },
           "baxis": {
            "gridcolor": "white",
            "linecolor": "white",
            "ticks": ""
           },
           "bgcolor": "#E5ECF6",
           "caxis": {
            "gridcolor": "white",
            "linecolor": "white",
            "ticks": ""
           }
          },
          "title": {
           "x": 0.05
          },
          "xaxis": {
           "automargin": true,
           "gridcolor": "white",
           "linecolor": "white",
           "ticks": "",
           "title": {
            "standoff": 15
           },
           "zerolinecolor": "white",
           "zerolinewidth": 2
          },
          "yaxis": {
           "automargin": true,
           "gridcolor": "white",
           "linecolor": "white",
           "ticks": "",
           "title": {
            "standoff": 15
           },
           "zerolinecolor": "white",
           "zerolinewidth": 2
          }
         }
        },
        "title": {
         "font": {
          "size": 22
         },
         "text": "Interactive Graph: Time Spent and Average Mistakes"
        },
        "updatemenus": [
         {
          "buttons": [
           {
            "args": [
             {
              "visible": [
               true,
               true,
               false,
               false
              ]
             },
             {
              "title": "Time Spent on Each Question"
             }
            ],
            "label": "Time Spent",
            "method": "update"
           },
           {
            "args": [
             {
              "visible": [
               false,
               false,
               true,
               true
              ]
             },
             {
              "title": "Average Mistakes per Question"
             }
            ],
            "label": "Average Mistakes",
            "method": "update"
           }
          ],
          "direction": "down",
          "showactive": true,
          "x": 0.77,
          "xanchor": "left",
          "y": 1.33,
          "yanchor": "top"
         }
        ],
        "xaxis": {
         "tickangle": 45,
         "tickfont": {
          "size": 15
         },
         "title": {
          "font": {
           "size": 19
          },
          "text": "Questions"
         }
        },
        "yaxis": {
         "side": "left",
         "tickfont": {
          "size": 18
         },
         "title": {
          "font": {
           "size": 19
          },
          "text": "Time Spent (seconds)"
         }
        },
        "yaxis2": {
         "overlaying": "y",
         "side": "right",
         "tickfont": {
          "size": 18
         },
         "title": {
          "font": {
           "size": 19
          },
          "text": "Average Mistakes"
         }
        }
       }
      }
     },
     "metadata": {},
     "output_type": "display_data"
    }
   ],
   "source": [
    "# Sort the data\n",
    "art_data = pd.read_csv('./data/art_generated_data.csv')\n",
    "df = art_data\n",
    "df['temp_mean'] = df['temp_mean'] / 1000\n",
    "df_sorted_time = df.sort_values(by='temp_mean', ascending=False)\n",
    "df_sorted_mistakes = df.sort_values(by='answ_mean', ascending=False)\n",
    "\n",
    "# Create the combined figure\n",
    "fig = go.Figure()\n",
    "\n",
    "# Add traces for time spent and average mistakes\n",
    "\n",
    "fig.add_trace(go.Bar(x=df_sorted_time['words'], y=df_sorted_time['answ_mean'], name='Average Mistakes', \n",
    "                    marker=dict(color='lightgreen'), opacity=0.5, yaxis='y2', offsetgroup=2))\n",
    "fig.add_trace(go.Bar(x=df_sorted_time['words'], y=df_sorted_time['temp_mean'], name='Time Spent (seconds)',\n",
    "                    marker=dict(color='blue'), opacity=1, yaxis='y1', offsetgroup=1))\n",
    "\n",
    "\n",
    "fig.add_trace(go.Bar(x=df_sorted_mistakes['words'], y=df_sorted_mistakes['answ_mean'], name='Average Mistakes', \n",
    "                    marker=dict(color='lightgreen'), yaxis='y2', opacity=1, offsetgroup=2, visible=False))\n",
    "fig.add_trace(go.Bar(x=df_sorted_mistakes['words'], y=df_sorted_mistakes['temp_mean'], name='Time Spent (seconds)', \n",
    "                    marker=dict(color='blue'), yaxis='y1', opacity=0.45, offsetgroup=1, visible=False))\n",
    "\n",
    "# Update layout with dropdown and secondary y-axis\n",
    "fig.update_layout(\n",
    "    updatemenus=[\n",
    "        dict(\n",
    "            buttons=[\n",
    "                dict(label='Time Spent',\n",
    "                     method='update',\n",
    "                     args=[{'visible': [True, True, False, False]},\n",
    "                           {'title': 'Time Spent on Each Question'}]),\n",
    "                dict(label='Average Mistakes',\n",
    "                     method='update',\n",
    "                     args=[{'visible': [False, False, True, True]},\n",
    "                           {'title': 'Average Mistakes per Question'}])\n",
    "            ],\n",
    "            direction='down',\n",
    "            showactive=True,\n",
    "            x=.77,\n",
    "            xanchor='left',\n",
    "            y=1.33,\n",
    "            yanchor='top'\n",
    "        )\n",
    "    ],\n",
    "    # set the x-axis titles and tick font size and set tick orientation to 45 degrees\n",
    "    xaxis=dict(title='Questions', titlefont=dict(size=19), tickfont=dict(size=15), tickangle=45),\n",
    "    # seet the y-axis titles and font size\n",
    "    yaxis=dict(title='Time Spent (seconds)', side='left', titlefont=dict(size=19), tickfont=dict(size=18)),\n",
    "    yaxis2=dict(title='Average Mistakes', overlaying='y', side='right',  titlefont=dict(size=19), tickfont=dict(size=18)),\n",
    "    barmode='group',\n",
    "    # set the title of the graph and it font size\n",
    "    title= dict(text='Interactive Graph: Time Spent and Average Mistakes', font=dict(size=22)),\n",
    "    legend=dict( x=1, y=1.13, xanchor='left', yanchor='bottom', font=dict(size=16))\n",
    ")\n",
    "\n",
    "fig.show()\n"
   ]
  },
  {
   "cell_type": "markdown",
   "metadata": {},
   "source": [
    "The following graph shows the correlation between item difficulty and the amount of time spent on each item. In IRT, difficulty is a parameter that indicates how challenging a test item is, defined by the ability level at which there is a 50% chance of a correct response."
   ]
  },
  {
   "cell_type": "code",
   "execution_count": 49,
   "metadata": {},
   "outputs": [
    {
     "data": {
      "application/vnd.plotly.v1+json": {
       "config": {
        "plotlyServerURL": "https://plot.ly"
       },
       "data": [
        {
         "hovertemplate": "Time Spent (s)=%{x}<br>IRT difficulty=%{y}<extra></extra>",
         "legendgroup": "",
         "marker": {
          "color": "blue",
          "opacity": 0.5,
          "size": 15,
          "symbol": "circle"
         },
         "mode": "markers",
         "name": "",
         "orientation": "v",
         "showlegend": false,
         "type": "scatter",
         "x": [
          4.018870653372928,
          4.40372873261597,
          2.946823624364393,
          4.442633764485827,
          14.460438688568395,
          3.417312815925695,
          3.28915635348964,
          3.5518062696933397,
          8.770552774101159,
          6.3013891326682945,
          3.8062080347560303,
          9.311504325445918,
          4.479684067261056,
          6.524136271390969,
          5.9936679625474145,
          5.787633044251293,
          14.304801010092397,
          13.774827949917192,
          10.458156899251831,
          7.377788737854714,
          6.27916023448914,
          6.764087883772648,
          6.087141462452701,
          7.340293861126372,
          13.20313604406104,
          8.695435750669256,
          9.21046382275297,
          8.800281965274868,
          3.9546507418370687,
          8.117178981454613,
          7.360874554137563,
          6.671546364359105,
          13.27124167051356,
          3.414850514456354,
          2.972276566834398,
          8.027714330559999,
          4.191663728444512,
          9.94200403666737,
          10.640416619699128,
          7.318926035219435
         ],
         "xaxis": "x",
         "y": [
          -0.3544229567050934,
          -0.5140444040298462,
          -0.5809946060180664,
          -0.6419495940208435,
          0.1415804028511047,
          -0.8069114685058594,
          -0.542214035987854,
          -0.3014755547046661,
          -0.2825877666473388,
          -0.4687522351741791,
          -0.7995399832725525,
          0.0565846227109432,
          -0.2080194056034088,
          -0.3236111998558044,
          -0.3806560635566711,
          0.0445257052779197,
          -0.5070241689682007,
          -1.0502138137817385,
          -0.6519013047218323,
          0.2262769490480423,
          0.151629164814949,
          -0.9114963412284852,
          0.1303420662879943,
          -0.485329806804657,
          0.0800871849060058,
          -0.290819376707077,
          -0.6421092748641968,
          0.1257084757089615,
          0.1911002099514007,
          -0.1976659297943115,
          0.1068732440471649,
          -0.1007392704486846,
          -0.863468587398529,
          0.1254458427429199,
          -0.597222089767456,
          0.0957348644733429,
          -0.1559560447931289,
          -0.5198608040809631,
          0.658069908618927,
          0.0330509953200817
         ],
         "yaxis": "y"
        },
        {
         "line": {
          "color": "red",
          "width": 1.5
         },
         "mode": "lines",
         "name": "corcoeff = 0.05, p = 0.7654",
         "type": "scatter",
         "x": [
          2.946823624364393,
          3.0631227664270595,
          3.179421908489726,
          3.295721050552393,
          3.4120201926150595,
          3.528319334677726,
          3.644618476740393,
          3.7609176188030595,
          3.877216760865726,
          3.993515902928393,
          4.10981504499106,
          4.226114187053726,
          4.342413329116393,
          4.4587124711790596,
          4.575011613241727,
          4.691310755304393,
          4.80760989736706,
          4.923909039429726,
          5.040208181492393,
          5.15650732355506,
          5.272806465617727,
          5.389105607680394,
          5.50540474974306,
          5.621703891805726,
          5.738003033868393,
          5.8543021759310605,
          5.970601317993727,
          6.086900460056393,
          6.20319960211906,
          6.319498744181727,
          6.435797886244393,
          6.55209702830706,
          6.668396170369727,
          6.784695312432394,
          6.90099445449506,
          7.017293596557726,
          7.1335927386203934,
          7.249891880683061,
          7.366191022745728,
          7.482490164808393,
          7.59878930687106,
          7.715088448933727,
          7.831387590996394,
          7.94768673305906,
          8.063985875121727,
          8.180285017184394,
          8.296584159247061,
          8.412883301309726,
          8.529182443372394,
          8.64548158543506,
          8.761780727497728,
          8.878079869560393,
          8.99437901162306,
          9.110678153685727,
          9.226977295748394,
          9.34327643781106,
          9.459575579873727,
          9.575874721936394,
          9.692173863999061,
          9.808473006061726,
          9.924772148124394,
          10.04107129018706,
          10.157370432249728,
          10.273669574312393,
          10.38996871637506,
          10.506267858437727,
          10.622567000500394,
          10.738866142563062,
          10.855165284625727,
          10.971464426688394,
          11.087763568751061,
          11.204062710813728,
          11.320361852876395,
          11.43666099493906,
          11.552960137001728,
          11.669259279064395,
          11.785558421127062,
          11.901857563189727,
          12.018156705252395,
          12.134455847315062,
          12.250754989377729,
          12.367054131440394,
          12.483353273503061,
          12.599652415565728,
          12.715951557628395,
          12.83225069969106,
          12.948549841753728,
          13.064848983816395,
          13.181148125879062,
          13.297447267941727,
          13.413746410004395,
          13.530045552067062,
          13.646344694129729,
          13.762643836192394,
          13.878942978255061,
          13.995242120317728,
          14.111541262380396,
          14.227840404443063,
          14.344139546505728,
          14.460438688568395
         ],
         "y": [
          -0.29959799364544426,
          -0.29894008566291497,
          -0.2982821776803857,
          -0.29762426969785644,
          -0.29696636171532714,
          -0.29630845373279785,
          -0.2956505457502686,
          -0.2949926377677393,
          -0.29433472978521,
          -0.29367682180268073,
          -0.2930189138201515,
          -0.2923610058376222,
          -0.2917030978550929,
          -0.29104518987256367,
          -0.2903872818900344,
          -0.2897293739075051,
          -0.28907146592497585,
          -0.28841355794244655,
          -0.28775564995991726,
          -0.287097741977388,
          -0.28643983399485873,
          -0.28578192601232943,
          -0.28512401802980014,
          -0.2844661100472709,
          -0.2838082020647416,
          -0.2831502940822123,
          -0.2824923860996831,
          -0.2818344781171538,
          -0.2811765701346245,
          -0.28051866215209526,
          -0.27986075416956596,
          -0.27920284618703667,
          -0.27854493820450743,
          -0.27788703022197814,
          -0.27722912223944884,
          -0.2765712142569196,
          -0.2759133062743903,
          -0.275255398291861,
          -0.2745974903093317,
          -0.2739395823268025,
          -0.2732816743442732,
          -0.2726237663617439,
          -0.27196585837921466,
          -0.27130795039668537,
          -0.2706500424141561,
          -0.26999213443162684,
          -0.26933422644909755,
          -0.26867631846656825,
          -0.268018410484039,
          -0.2673605025015097,
          -0.26670259451898043,
          -0.2660446865364512,
          -0.2653867785539219,
          -0.2647288705713926,
          -0.2640709625888633,
          -0.2634130546063341,
          -0.2627551466238048,
          -0.2620972386412755,
          -0.26143933065874625,
          -0.26078142267621696,
          -0.26012351469368766,
          -0.2594656067111584,
          -0.25880769872862913,
          -0.25814979074609984,
          -0.2574918827635706,
          -0.2568339747810413,
          -0.256176066798512,
          -0.2555181588159827,
          -0.2548602508334535,
          -0.2542023428509242,
          -0.25354443486839495,
          -0.25288652688586566,
          -0.25222861890333637,
          -0.2515707109208071,
          -0.25091280293827783,
          -0.25025489495574854,
          -0.24959698697321925,
          -0.24893907899069,
          -0.24828117100816072,
          -0.24762326302563142,
          -0.24696535504310216,
          -0.2463074470605729,
          -0.2456495390780436,
          -0.24499163109551433,
          -0.24433372311298507,
          -0.24367581513045578,
          -0.2430179071479265,
          -0.24235999916539724,
          -0.24170209118286795,
          -0.24104418320033869,
          -0.24038627521780942,
          -0.23972836723528013,
          -0.23907045925275083,
          -0.2384125512702216,
          -0.2377546432876923,
          -0.237096735305163,
          -0.23643882732263374,
          -0.23578091934010448,
          -0.23512301135757518,
          -0.23446510337504592
         ]
        }
       ],
       "layout": {
        "height": 550,
        "legend": {
         "font": {
          "size": 18
         },
         "tracegroupgap": 0,
         "x": 0.65,
         "y": 1
        },
        "showlegend": true,
        "template": {
         "data": {
          "bar": [
           {
            "error_x": {
             "color": "#2a3f5f"
            },
            "error_y": {
             "color": "#2a3f5f"
            },
            "marker": {
             "line": {
              "color": "#E5ECF6",
              "width": 0.5
             },
             "pattern": {
              "fillmode": "overlay",
              "size": 10,
              "solidity": 0.2
             }
            },
            "type": "bar"
           }
          ],
          "barpolar": [
           {
            "marker": {
             "line": {
              "color": "#E5ECF6",
              "width": 0.5
             },
             "pattern": {
              "fillmode": "overlay",
              "size": 10,
              "solidity": 0.2
             }
            },
            "type": "barpolar"
           }
          ],
          "carpet": [
           {
            "aaxis": {
             "endlinecolor": "#2a3f5f",
             "gridcolor": "white",
             "linecolor": "white",
             "minorgridcolor": "white",
             "startlinecolor": "#2a3f5f"
            },
            "baxis": {
             "endlinecolor": "#2a3f5f",
             "gridcolor": "white",
             "linecolor": "white",
             "minorgridcolor": "white",
             "startlinecolor": "#2a3f5f"
            },
            "type": "carpet"
           }
          ],
          "choropleth": [
           {
            "colorbar": {
             "outlinewidth": 0,
             "ticks": ""
            },
            "type": "choropleth"
           }
          ],
          "contour": [
           {
            "colorbar": {
             "outlinewidth": 0,
             "ticks": ""
            },
            "colorscale": [
             [
              0,
              "#0d0887"
             ],
             [
              0.1111111111111111,
              "#46039f"
             ],
             [
              0.2222222222222222,
              "#7201a8"
             ],
             [
              0.3333333333333333,
              "#9c179e"
             ],
             [
              0.4444444444444444,
              "#bd3786"
             ],
             [
              0.5555555555555556,
              "#d8576b"
             ],
             [
              0.6666666666666666,
              "#ed7953"
             ],
             [
              0.7777777777777778,
              "#fb9f3a"
             ],
             [
              0.8888888888888888,
              "#fdca26"
             ],
             [
              1,
              "#f0f921"
             ]
            ],
            "type": "contour"
           }
          ],
          "contourcarpet": [
           {
            "colorbar": {
             "outlinewidth": 0,
             "ticks": ""
            },
            "type": "contourcarpet"
           }
          ],
          "heatmap": [
           {
            "colorbar": {
             "outlinewidth": 0,
             "ticks": ""
            },
            "colorscale": [
             [
              0,
              "#0d0887"
             ],
             [
              0.1111111111111111,
              "#46039f"
             ],
             [
              0.2222222222222222,
              "#7201a8"
             ],
             [
              0.3333333333333333,
              "#9c179e"
             ],
             [
              0.4444444444444444,
              "#bd3786"
             ],
             [
              0.5555555555555556,
              "#d8576b"
             ],
             [
              0.6666666666666666,
              "#ed7953"
             ],
             [
              0.7777777777777778,
              "#fb9f3a"
             ],
             [
              0.8888888888888888,
              "#fdca26"
             ],
             [
              1,
              "#f0f921"
             ]
            ],
            "type": "heatmap"
           }
          ],
          "heatmapgl": [
           {
            "colorbar": {
             "outlinewidth": 0,
             "ticks": ""
            },
            "colorscale": [
             [
              0,
              "#0d0887"
             ],
             [
              0.1111111111111111,
              "#46039f"
             ],
             [
              0.2222222222222222,
              "#7201a8"
             ],
             [
              0.3333333333333333,
              "#9c179e"
             ],
             [
              0.4444444444444444,
              "#bd3786"
             ],
             [
              0.5555555555555556,
              "#d8576b"
             ],
             [
              0.6666666666666666,
              "#ed7953"
             ],
             [
              0.7777777777777778,
              "#fb9f3a"
             ],
             [
              0.8888888888888888,
              "#fdca26"
             ],
             [
              1,
              "#f0f921"
             ]
            ],
            "type": "heatmapgl"
           }
          ],
          "histogram": [
           {
            "marker": {
             "pattern": {
              "fillmode": "overlay",
              "size": 10,
              "solidity": 0.2
             }
            },
            "type": "histogram"
           }
          ],
          "histogram2d": [
           {
            "colorbar": {
             "outlinewidth": 0,
             "ticks": ""
            },
            "colorscale": [
             [
              0,
              "#0d0887"
             ],
             [
              0.1111111111111111,
              "#46039f"
             ],
             [
              0.2222222222222222,
              "#7201a8"
             ],
             [
              0.3333333333333333,
              "#9c179e"
             ],
             [
              0.4444444444444444,
              "#bd3786"
             ],
             [
              0.5555555555555556,
              "#d8576b"
             ],
             [
              0.6666666666666666,
              "#ed7953"
             ],
             [
              0.7777777777777778,
              "#fb9f3a"
             ],
             [
              0.8888888888888888,
              "#fdca26"
             ],
             [
              1,
              "#f0f921"
             ]
            ],
            "type": "histogram2d"
           }
          ],
          "histogram2dcontour": [
           {
            "colorbar": {
             "outlinewidth": 0,
             "ticks": ""
            },
            "colorscale": [
             [
              0,
              "#0d0887"
             ],
             [
              0.1111111111111111,
              "#46039f"
             ],
             [
              0.2222222222222222,
              "#7201a8"
             ],
             [
              0.3333333333333333,
              "#9c179e"
             ],
             [
              0.4444444444444444,
              "#bd3786"
             ],
             [
              0.5555555555555556,
              "#d8576b"
             ],
             [
              0.6666666666666666,
              "#ed7953"
             ],
             [
              0.7777777777777778,
              "#fb9f3a"
             ],
             [
              0.8888888888888888,
              "#fdca26"
             ],
             [
              1,
              "#f0f921"
             ]
            ],
            "type": "histogram2dcontour"
           }
          ],
          "mesh3d": [
           {
            "colorbar": {
             "outlinewidth": 0,
             "ticks": ""
            },
            "type": "mesh3d"
           }
          ],
          "parcoords": [
           {
            "line": {
             "colorbar": {
              "outlinewidth": 0,
              "ticks": ""
             }
            },
            "type": "parcoords"
           }
          ],
          "pie": [
           {
            "automargin": true,
            "type": "pie"
           }
          ],
          "scatter": [
           {
            "fillpattern": {
             "fillmode": "overlay",
             "size": 10,
             "solidity": 0.2
            },
            "type": "scatter"
           }
          ],
          "scatter3d": [
           {
            "line": {
             "colorbar": {
              "outlinewidth": 0,
              "ticks": ""
             }
            },
            "marker": {
             "colorbar": {
              "outlinewidth": 0,
              "ticks": ""
             }
            },
            "type": "scatter3d"
           }
          ],
          "scattercarpet": [
           {
            "marker": {
             "colorbar": {
              "outlinewidth": 0,
              "ticks": ""
             }
            },
            "type": "scattercarpet"
           }
          ],
          "scattergeo": [
           {
            "marker": {
             "colorbar": {
              "outlinewidth": 0,
              "ticks": ""
             }
            },
            "type": "scattergeo"
           }
          ],
          "scattergl": [
           {
            "marker": {
             "colorbar": {
              "outlinewidth": 0,
              "ticks": ""
             }
            },
            "type": "scattergl"
           }
          ],
          "scattermapbox": [
           {
            "marker": {
             "colorbar": {
              "outlinewidth": 0,
              "ticks": ""
             }
            },
            "type": "scattermapbox"
           }
          ],
          "scatterpolar": [
           {
            "marker": {
             "colorbar": {
              "outlinewidth": 0,
              "ticks": ""
             }
            },
            "type": "scatterpolar"
           }
          ],
          "scatterpolargl": [
           {
            "marker": {
             "colorbar": {
              "outlinewidth": 0,
              "ticks": ""
             }
            },
            "type": "scatterpolargl"
           }
          ],
          "scatterternary": [
           {
            "marker": {
             "colorbar": {
              "outlinewidth": 0,
              "ticks": ""
             }
            },
            "type": "scatterternary"
           }
          ],
          "surface": [
           {
            "colorbar": {
             "outlinewidth": 0,
             "ticks": ""
            },
            "colorscale": [
             [
              0,
              "#0d0887"
             ],
             [
              0.1111111111111111,
              "#46039f"
             ],
             [
              0.2222222222222222,
              "#7201a8"
             ],
             [
              0.3333333333333333,
              "#9c179e"
             ],
             [
              0.4444444444444444,
              "#bd3786"
             ],
             [
              0.5555555555555556,
              "#d8576b"
             ],
             [
              0.6666666666666666,
              "#ed7953"
             ],
             [
              0.7777777777777778,
              "#fb9f3a"
             ],
             [
              0.8888888888888888,
              "#fdca26"
             ],
             [
              1,
              "#f0f921"
             ]
            ],
            "type": "surface"
           }
          ],
          "table": [
           {
            "cells": {
             "fill": {
              "color": "#EBF0F8"
             },
             "line": {
              "color": "white"
             }
            },
            "header": {
             "fill": {
              "color": "#C8D4E3"
             },
             "line": {
              "color": "white"
             }
            },
            "type": "table"
           }
          ]
         },
         "layout": {
          "annotationdefaults": {
           "arrowcolor": "#2a3f5f",
           "arrowhead": 0,
           "arrowwidth": 1
          },
          "autotypenumbers": "strict",
          "coloraxis": {
           "colorbar": {
            "outlinewidth": 0,
            "ticks": ""
           }
          },
          "colorscale": {
           "diverging": [
            [
             0,
             "#8e0152"
            ],
            [
             0.1,
             "#c51b7d"
            ],
            [
             0.2,
             "#de77ae"
            ],
            [
             0.3,
             "#f1b6da"
            ],
            [
             0.4,
             "#fde0ef"
            ],
            [
             0.5,
             "#f7f7f7"
            ],
            [
             0.6,
             "#e6f5d0"
            ],
            [
             0.7,
             "#b8e186"
            ],
            [
             0.8,
             "#7fbc41"
            ],
            [
             0.9,
             "#4d9221"
            ],
            [
             1,
             "#276419"
            ]
           ],
           "sequential": [
            [
             0,
             "#0d0887"
            ],
            [
             0.1111111111111111,
             "#46039f"
            ],
            [
             0.2222222222222222,
             "#7201a8"
            ],
            [
             0.3333333333333333,
             "#9c179e"
            ],
            [
             0.4444444444444444,
             "#bd3786"
            ],
            [
             0.5555555555555556,
             "#d8576b"
            ],
            [
             0.6666666666666666,
             "#ed7953"
            ],
            [
             0.7777777777777778,
             "#fb9f3a"
            ],
            [
             0.8888888888888888,
             "#fdca26"
            ],
            [
             1,
             "#f0f921"
            ]
           ],
           "sequentialminus": [
            [
             0,
             "#0d0887"
            ],
            [
             0.1111111111111111,
             "#46039f"
            ],
            [
             0.2222222222222222,
             "#7201a8"
            ],
            [
             0.3333333333333333,
             "#9c179e"
            ],
            [
             0.4444444444444444,
             "#bd3786"
            ],
            [
             0.5555555555555556,
             "#d8576b"
            ],
            [
             0.6666666666666666,
             "#ed7953"
            ],
            [
             0.7777777777777778,
             "#fb9f3a"
            ],
            [
             0.8888888888888888,
             "#fdca26"
            ],
            [
             1,
             "#f0f921"
            ]
           ]
          },
          "colorway": [
           "#636efa",
           "#EF553B",
           "#00cc96",
           "#ab63fa",
           "#FFA15A",
           "#19d3f3",
           "#FF6692",
           "#B6E880",
           "#FF97FF",
           "#FECB52"
          ],
          "font": {
           "color": "#2a3f5f"
          },
          "geo": {
           "bgcolor": "white",
           "lakecolor": "white",
           "landcolor": "#E5ECF6",
           "showlakes": true,
           "showland": true,
           "subunitcolor": "white"
          },
          "hoverlabel": {
           "align": "left"
          },
          "hovermode": "closest",
          "mapbox": {
           "style": "light"
          },
          "paper_bgcolor": "white",
          "plot_bgcolor": "#E5ECF6",
          "polar": {
           "angularaxis": {
            "gridcolor": "white",
            "linecolor": "white",
            "ticks": ""
           },
           "bgcolor": "#E5ECF6",
           "radialaxis": {
            "gridcolor": "white",
            "linecolor": "white",
            "ticks": ""
           }
          },
          "scene": {
           "xaxis": {
            "backgroundcolor": "#E5ECF6",
            "gridcolor": "white",
            "gridwidth": 2,
            "linecolor": "white",
            "showbackground": true,
            "ticks": "",
            "zerolinecolor": "white"
           },
           "yaxis": {
            "backgroundcolor": "#E5ECF6",
            "gridcolor": "white",
            "gridwidth": 2,
            "linecolor": "white",
            "showbackground": true,
            "ticks": "",
            "zerolinecolor": "white"
           },
           "zaxis": {
            "backgroundcolor": "#E5ECF6",
            "gridcolor": "white",
            "gridwidth": 2,
            "linecolor": "white",
            "showbackground": true,
            "ticks": "",
            "zerolinecolor": "white"
           }
          },
          "shapedefaults": {
           "line": {
            "color": "#2a3f5f"
           }
          },
          "ternary": {
           "aaxis": {
            "gridcolor": "white",
            "linecolor": "white",
            "ticks": ""
           },
           "baxis": {
            "gridcolor": "white",
            "linecolor": "white",
            "ticks": ""
           },
           "bgcolor": "#E5ECF6",
           "caxis": {
            "gridcolor": "white",
            "linecolor": "white",
            "ticks": ""
           }
          },
          "title": {
           "x": 0.05
          },
          "xaxis": {
           "automargin": true,
           "gridcolor": "white",
           "linecolor": "white",
           "ticks": "",
           "title": {
            "standoff": 15
           },
           "zerolinecolor": "white",
           "zerolinewidth": 2
          },
          "yaxis": {
           "automargin": true,
           "gridcolor": "white",
           "linecolor": "white",
           "ticks": "",
           "title": {
            "standoff": 15
           },
           "zerolinecolor": "white",
           "zerolinewidth": 2
          }
         }
        },
        "title": {
         "font": {
          "size": 22
         },
         "text": "Correlation between Item Difficulty (IRT) and Average Answer Correctness "
        },
        "width": 1000,
        "xaxis": {
         "anchor": "y",
         "domain": [
          0,
          1
         ],
         "tickfont": {
          "size": 19
         },
         "title": {
          "font": {
           "size": 22
          },
          "text": "Time Spent (s)"
         }
        },
        "yaxis": {
         "anchor": "x",
         "domain": [
          0,
          1
         ],
         "tickfont": {
          "size": 19
         },
         "title": {
          "font": {
           "size": 22
          },
          "text": "IRT difficulty"
         }
        }
       }
      }
     },
     "metadata": {},
     "output_type": "display_data"
    }
   ],
   "source": [
    "# Normalize temp_mean (if needed)\n",
    "#art_data = pd.read_csv('./data/art_generated_data.csv')\n",
    "df = art_data\n",
    "df['temp_mean'] = df['temp_mean'] / 1000\n",
    "\n",
    "# Calculate Pearson correlation coefficient and p-value\n",
    "correlation, p_value = pearsonr(df['temp_mean'], df['difficulty'])\n",
    "\n",
    "# Calculate slope and intercept for the regression line using linregress\n",
    "slope, intercept, r_value, p_value, std_err = linregress(df['temp_mean'], df['difficulty'])\n",
    "\n",
    "# Create scatter plot and set the size of the dots\n",
    "fig_scatter = px.scatter(df, x='temp_mean', y='difficulty', \n",
    "                         labels={'temp_mean': 'Time Spent (s)', 'difficulty': 'IRT difficulty'},\n",
    "                         title=f'Correlation between Item Difficulty (IRT) and Average Time Spent per item')\n",
    "# set font `size` for x and y axes and title\n",
    "fig_scatter.update_traces(marker_size=15, marker_color='blue', marker_opacity=0.5)\n",
    "fig_scatter.update_xaxes(tickfont=dict(size=19), title_font_size=22)\n",
    "fig_scatter.update_yaxes(tickfont=dict(size=19), title_font_size=22)\n",
    "fig_scatter.update_layout(title_font_size=22)\n",
    "\n",
    "# Add a line where the slope is calculated and the intercept is adjusted\n",
    "x = np.linspace(df['temp_mean'].min(), df['temp_mean'].max(), 100)\n",
    "y = slope * x + intercept\n",
    "\n",
    "fig_scatter.add_trace(go.Scatter(x=x, y=y, mode='lines', \n",
    "                                 name=f'corcoeff = {correlation:.2f}, p = {p_value:.4f}', \n",
    "                                 line=dict(color='red', width=1.5)))\n",
    "# add the legend to the plot and set its font size and position\n",
    "fig_scatter.update_layout(showlegend=True, legend=dict(x=0.65, y=1, font=dict(size=18)))\n",
    "# set the figure size\n",
    "fig_scatter.update_layout(width=1000, height=550)\n",
    "# Show the plot\n",
    "fig_scatter.show()"
   ]
  },
  {
   "cell_type": "code",
   "execution_count": null,
   "metadata": {},
   "outputs": [],
   "source": [
    "'''\n",
    "# Rescale the 'temp_mean' column to a scale of 0-1\n",
    "art_data = pd.read_csv('./data/art_generated_data.csv')\n",
    "df = art_data\n",
    "\n",
    "# Rescale the 'temp_mean' column to a scale of 0-1\n",
    "df['temp_mean_rescaled'] = (df['temp_mean'] - df['temp_mean'].min()) / (df['temp_mean'].max() - df['temp_mean'].min())\n",
    "\n",
    "# Calculate Pearson correlation coefficient and linear regression line (slope and intercept)\n",
    "correlation, p_value = pearsonr(df['temp_mean_rescaled'], df['answ_mean'])\n",
    "\n",
    "# Calculate slope and intercept for the regression line\n",
    "slope = correlation\n",
    "intercept = df['answ_mean'].mean() - slope * df['temp_mean_rescaled'].mean()\n",
    "\n",
    "# Create scatter plot\n",
    "fig_scatter = px.scatter(df, x='temp_mean_rescaled', y='answ_mean',\n",
    "                         labels={'temp_mean_rescaled': 'Rescaled Time Spent', 'answ_mean': 'Average Mistakes'},\n",
    "                         title=f'Correlation between Time Spent and Average Answer Correctness')\n",
    "# set font `size` for x and y axes and title\n",
    "fig_scatter.update_traces(marker_size=15, marker_color='blue', marker_opacity=0.5)\n",
    "fig_scatter.update_xaxes(tickfont=dict(size=19), title_font_size=22)\n",
    "fig_scatter.update_yaxes(tickfont=dict(size=19), title_font_size=22)\n",
    "fig_scatter.update_layout(title_font_size=22)\n",
    "\n",
    "# Add a line where the slope is the Pearson correlation and the intercept is calculated\n",
    "x = np.linspace(df['temp_mean_rescaled'].min(), df['temp_mean_rescaled'].max(), 100)\n",
    "y = slope * x + intercept\n",
    "\n",
    "fig_scatter.add_trace(go.Scatter(x=x, y=y, mode='lines', \n",
    "                                 name=f'corcoeff = {correlation:.2f}, p = {p_value:.4f}', \n",
    "                                 line=dict(color='red', width=1.5)))\n",
    "# add the legend to the plot and set its font size and position\n",
    "fig_scatter.update_layout(showlegend=True, legend=dict(x=0.65, y=1, font=dict(size=18)))\n",
    "# set the figure size\n",
    "fig_scatter.update_layout(width=1000, height=550)\n",
    "# Show the plot\n",
    "fig_scatter.show()\n",
    "\n",
    "'''"
   ]
  }
 ],
 "metadata": {
  "kernelspec": {
   "display_name": "py35",
   "language": "python",
   "name": "python3"
  },
  "language_info": {
   "codemirror_mode": {
    "name": "ipython",
    "version": 3
   },
   "file_extension": ".py",
   "mimetype": "text/x-python",
   "name": "python",
   "nbconvert_exporter": "python",
   "pygments_lexer": "ipython3",
   "version": "3.9.16"
  }
 },
 "nbformat": 4,
 "nbformat_minor": 2
}
